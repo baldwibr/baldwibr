{
  "nbformat": 4,
  "nbformat_minor": 0,
  "metadata": {
    "colab": {
      "provenance": []
    },
    "kernelspec": {
      "name": "python3",
      "display_name": "Python 3"
    },
    "language_info": {
      "name": "python"
    }
  },
  "cells": [
    {
      "cell_type": "markdown",
      "source": [
        "# Accuracy Measures Assymetry\n",
        "\n",
        "This notebook explores the assymetry in MAPE, explores how SMAPE attempts to bring some symmetry to the value, and compare it to a truly symmetric measurement such as MAE.\n",
        "\n",
        "In this instance, we are defining \"symmetric\" as the result being the same if we exchange the forecast and the actual:\n",
        "\n",
        "$$e(\\hat{y},y) = e(y,\\hat{y})$$"
      ],
      "metadata": {
        "id": "5Cucpa9MQnAW"
      }
    },
    {
      "cell_type": "code",
      "execution_count": 15,
      "metadata": {
        "id": "R7XBixtEV-ZY"
      },
      "outputs": [],
      "source": [
        "import numpy as np\n",
        "import pandas as pd\n",
        "import plotly.express as px\n",
        "\n",
        "# create a MAPE function\n",
        "def mape(actual, predicted, n):\n",
        "  mape = (1/n) * np.sum(np.absolute(actual - predicted) / actual)\n",
        "  return mape\n",
        "\n",
        "# create a SMAPE function\n",
        "def smape(actual, predicted, n):\n",
        "  smape = (1/n) * np.sum(np.absolute(actual - predicted) / ((np.absolute(actual) + np.absolute(predicted))/2))\n",
        "  return smape\n",
        "\n",
        "# create a MAE function\n",
        "def mae(actual, predicted, n):\n",
        "  mae = (1/n) * np.sum(np.absolute(predicted - actual))\n",
        "  return mae"
      ]
    },
    {
      "cell_type": "code",
      "source": [
        "# establish a predicted value\n",
        "predicted_value = 50\n",
        "\n",
        "# create a dataframe with our values\n",
        "df = pd.DataFrame({'actual': np.arange(start=0, stop=201, step=1)})\n",
        "df['mape'] = df['actual'].apply(lambda actual_value: mape(actual_value, predicted_value, 1))\n",
        "df['smape'] = df['actual'].apply(lambda actual_value: smape(actual_value, predicted_value, 1))\n",
        "df['mae'] = df['actual'].apply(lambda actual_value: mae(actual_value, predicted_value, 1))\n",
        "df['predicted'] = predicted_value\n",
        "display(df)"
      ],
      "metadata": {
        "colab": {
          "base_uri": "https://localhost:8080/",
          "height": 424
        },
        "id": "Xax3jY5WX-o4",
        "outputId": "d2d2faf1-bf34-4c27-81bd-a68e10d76bcf"
      },
      "execution_count": 16,
      "outputs": [
        {
          "output_type": "display_data",
          "data": {
            "text/plain": [
              "     actual       mape     smape    mae  predicted\n",
              "0         0        inf  2.000000   50.0         50\n",
              "1         1  49.000000  1.921569   49.0         50\n",
              "2         2  24.000000  1.846154   48.0         50\n",
              "3         3  15.666667  1.773585   47.0         50\n",
              "4         4  11.500000  1.703704   46.0         50\n",
              "..      ...        ...       ...    ...        ...\n",
              "196     196   0.744898  1.186992  146.0         50\n",
              "197     197   0.746193  1.190283  147.0         50\n",
              "198     198   0.747475  1.193548  148.0         50\n",
              "199     199   0.748744  1.196787  149.0         50\n",
              "200     200   0.750000  1.200000  150.0         50\n",
              "\n",
              "[201 rows x 5 columns]"
            ],
            "text/html": [
              "\n",
              "  <div id=\"df-2399eb14-4cc4-4ac5-be0b-027b49620935\">\n",
              "    <div class=\"colab-df-container\">\n",
              "      <div>\n",
              "<style scoped>\n",
              "    .dataframe tbody tr th:only-of-type {\n",
              "        vertical-align: middle;\n",
              "    }\n",
              "\n",
              "    .dataframe tbody tr th {\n",
              "        vertical-align: top;\n",
              "    }\n",
              "\n",
              "    .dataframe thead th {\n",
              "        text-align: right;\n",
              "    }\n",
              "</style>\n",
              "<table border=\"1\" class=\"dataframe\">\n",
              "  <thead>\n",
              "    <tr style=\"text-align: right;\">\n",
              "      <th></th>\n",
              "      <th>actual</th>\n",
              "      <th>mape</th>\n",
              "      <th>smape</th>\n",
              "      <th>mae</th>\n",
              "      <th>predicted</th>\n",
              "    </tr>\n",
              "  </thead>\n",
              "  <tbody>\n",
              "    <tr>\n",
              "      <th>0</th>\n",
              "      <td>0</td>\n",
              "      <td>inf</td>\n",
              "      <td>2.000000</td>\n",
              "      <td>50.0</td>\n",
              "      <td>50</td>\n",
              "    </tr>\n",
              "    <tr>\n",
              "      <th>1</th>\n",
              "      <td>1</td>\n",
              "      <td>49.000000</td>\n",
              "      <td>1.921569</td>\n",
              "      <td>49.0</td>\n",
              "      <td>50</td>\n",
              "    </tr>\n",
              "    <tr>\n",
              "      <th>2</th>\n",
              "      <td>2</td>\n",
              "      <td>24.000000</td>\n",
              "      <td>1.846154</td>\n",
              "      <td>48.0</td>\n",
              "      <td>50</td>\n",
              "    </tr>\n",
              "    <tr>\n",
              "      <th>3</th>\n",
              "      <td>3</td>\n",
              "      <td>15.666667</td>\n",
              "      <td>1.773585</td>\n",
              "      <td>47.0</td>\n",
              "      <td>50</td>\n",
              "    </tr>\n",
              "    <tr>\n",
              "      <th>4</th>\n",
              "      <td>4</td>\n",
              "      <td>11.500000</td>\n",
              "      <td>1.703704</td>\n",
              "      <td>46.0</td>\n",
              "      <td>50</td>\n",
              "    </tr>\n",
              "    <tr>\n",
              "      <th>...</th>\n",
              "      <td>...</td>\n",
              "      <td>...</td>\n",
              "      <td>...</td>\n",
              "      <td>...</td>\n",
              "      <td>...</td>\n",
              "    </tr>\n",
              "    <tr>\n",
              "      <th>196</th>\n",
              "      <td>196</td>\n",
              "      <td>0.744898</td>\n",
              "      <td>1.186992</td>\n",
              "      <td>146.0</td>\n",
              "      <td>50</td>\n",
              "    </tr>\n",
              "    <tr>\n",
              "      <th>197</th>\n",
              "      <td>197</td>\n",
              "      <td>0.746193</td>\n",
              "      <td>1.190283</td>\n",
              "      <td>147.0</td>\n",
              "      <td>50</td>\n",
              "    </tr>\n",
              "    <tr>\n",
              "      <th>198</th>\n",
              "      <td>198</td>\n",
              "      <td>0.747475</td>\n",
              "      <td>1.193548</td>\n",
              "      <td>148.0</td>\n",
              "      <td>50</td>\n",
              "    </tr>\n",
              "    <tr>\n",
              "      <th>199</th>\n",
              "      <td>199</td>\n",
              "      <td>0.748744</td>\n",
              "      <td>1.196787</td>\n",
              "      <td>149.0</td>\n",
              "      <td>50</td>\n",
              "    </tr>\n",
              "    <tr>\n",
              "      <th>200</th>\n",
              "      <td>200</td>\n",
              "      <td>0.750000</td>\n",
              "      <td>1.200000</td>\n",
              "      <td>150.0</td>\n",
              "      <td>50</td>\n",
              "    </tr>\n",
              "  </tbody>\n",
              "</table>\n",
              "<p>201 rows × 5 columns</p>\n",
              "</div>\n",
              "      <button class=\"colab-df-convert\" onclick=\"convertToInteractive('df-2399eb14-4cc4-4ac5-be0b-027b49620935')\"\n",
              "              title=\"Convert this dataframe to an interactive table.\"\n",
              "              style=\"display:none;\">\n",
              "        \n",
              "  <svg xmlns=\"http://www.w3.org/2000/svg\" height=\"24px\"viewBox=\"0 0 24 24\"\n",
              "       width=\"24px\">\n",
              "    <path d=\"M0 0h24v24H0V0z\" fill=\"none\"/>\n",
              "    <path d=\"M18.56 5.44l.94 2.06.94-2.06 2.06-.94-2.06-.94-.94-2.06-.94 2.06-2.06.94zm-11 1L8.5 8.5l.94-2.06 2.06-.94-2.06-.94L8.5 2.5l-.94 2.06-2.06.94zm10 10l.94 2.06.94-2.06 2.06-.94-2.06-.94-.94-2.06-.94 2.06-2.06.94z\"/><path d=\"M17.41 7.96l-1.37-1.37c-.4-.4-.92-.59-1.43-.59-.52 0-1.04.2-1.43.59L10.3 9.45l-7.72 7.72c-.78.78-.78 2.05 0 2.83L4 21.41c.39.39.9.59 1.41.59.51 0 1.02-.2 1.41-.59l7.78-7.78 2.81-2.81c.8-.78.8-2.07 0-2.86zM5.41 20L4 18.59l7.72-7.72 1.47 1.35L5.41 20z\"/>\n",
              "  </svg>\n",
              "      </button>\n",
              "      \n",
              "  <style>\n",
              "    .colab-df-container {\n",
              "      display:flex;\n",
              "      flex-wrap:wrap;\n",
              "      gap: 12px;\n",
              "    }\n",
              "\n",
              "    .colab-df-convert {\n",
              "      background-color: #E8F0FE;\n",
              "      border: none;\n",
              "      border-radius: 50%;\n",
              "      cursor: pointer;\n",
              "      display: none;\n",
              "      fill: #1967D2;\n",
              "      height: 32px;\n",
              "      padding: 0 0 0 0;\n",
              "      width: 32px;\n",
              "    }\n",
              "\n",
              "    .colab-df-convert:hover {\n",
              "      background-color: #E2EBFA;\n",
              "      box-shadow: 0px 1px 2px rgba(60, 64, 67, 0.3), 0px 1px 3px 1px rgba(60, 64, 67, 0.15);\n",
              "      fill: #174EA6;\n",
              "    }\n",
              "\n",
              "    [theme=dark] .colab-df-convert {\n",
              "      background-color: #3B4455;\n",
              "      fill: #D2E3FC;\n",
              "    }\n",
              "\n",
              "    [theme=dark] .colab-df-convert:hover {\n",
              "      background-color: #434B5C;\n",
              "      box-shadow: 0px 1px 3px 1px rgba(0, 0, 0, 0.15);\n",
              "      filter: drop-shadow(0px 1px 2px rgba(0, 0, 0, 0.3));\n",
              "      fill: #FFFFFF;\n",
              "    }\n",
              "  </style>\n",
              "\n",
              "      <script>\n",
              "        const buttonEl =\n",
              "          document.querySelector('#df-2399eb14-4cc4-4ac5-be0b-027b49620935 button.colab-df-convert');\n",
              "        buttonEl.style.display =\n",
              "          google.colab.kernel.accessAllowed ? 'block' : 'none';\n",
              "\n",
              "        async function convertToInteractive(key) {\n",
              "          const element = document.querySelector('#df-2399eb14-4cc4-4ac5-be0b-027b49620935');\n",
              "          const dataTable =\n",
              "            await google.colab.kernel.invokeFunction('convertToInteractive',\n",
              "                                                     [key], {});\n",
              "          if (!dataTable) return;\n",
              "\n",
              "          const docLinkHtml = 'Like what you see? Visit the ' +\n",
              "            '<a target=\"_blank\" href=https://colab.research.google.com/notebooks/data_table.ipynb>data table notebook</a>'\n",
              "            + ' to learn more about interactive tables.';\n",
              "          element.innerHTML = '';\n",
              "          dataTable['output_type'] = 'display_data';\n",
              "          await google.colab.output.renderOutput(dataTable, element);\n",
              "          const docLink = document.createElement('div');\n",
              "          docLink.innerHTML = docLinkHtml;\n",
              "          element.appendChild(docLink);\n",
              "        }\n",
              "      </script>\n",
              "    </div>\n",
              "  </div>\n",
              "  "
            ]
          },
          "metadata": {}
        }
      ]
    },
    {
      "cell_type": "markdown",
      "source": [
        "---\n",
        "# MAPE - Mean Absolute Percent Error\n",
        "\n",
        "$$\\text{MAPE} = \\frac{100 \\%}{n} \\sum\\limits_{t=1}^n \\left|\\frac{A_{t} - F_{t}}{A_{t}}\\right|$$\n",
        "\n",
        "\n",
        "The first graph we see all the $\\text{MAPE}$ (as a percent) from our range of actual values along the $x$-axis. You can see the more we over-forecast (our actual is less than our predicted), the more $\\text{MAPE}$ approaches infinity as the actual approaches $0$. However, the more we under-forecast (our actual is greater than our predicted), the more $\\text{MAPE}$ grows but slows as it approaches 100%."
      ],
      "metadata": {
        "id": "Nk8jhYqKpRop"
      }
    },
    {
      "cell_type": "code",
      "source": [
        "# create a line graph of our values\n",
        "mape_fig = px.line(df, \n",
        "              x=[df['actual'],df['predicted']], \n",
        "              y=df['mape'],\n",
        "              title='Illustration of MAPE Asymmetry',\n",
        "              labels={'mape':'MAPE', 'value':'Actual'},\n",
        "              range_x=[0,200],\n",
        "              range_y=[0,50]\n",
        "              )\n",
        "mape_fig.layout.yaxis.tickformat = ',.0%'\n",
        "mape_fig.show()"
      ],
      "metadata": {
        "colab": {
          "base_uri": "https://localhost:8080/",
          "height": 542
        },
        "id": "9uz9Ohn0kD2j",
        "outputId": "a6ee17cc-0b5c-4e47-823c-f82d9e99fad9"
      },
      "execution_count": 17,
      "outputs": [
        {
          "output_type": "display_data",
          "data": {
            "text/html": [
              "<html>\n",
              "<head><meta charset=\"utf-8\" /></head>\n",
              "<body>\n",
              "    <div>            <script src=\"https://cdnjs.cloudflare.com/ajax/libs/mathjax/2.7.5/MathJax.js?config=TeX-AMS-MML_SVG\"></script><script type=\"text/javascript\">if (window.MathJax) {MathJax.Hub.Config({SVG: {font: \"STIX-Web\"}});}</script>                <script type=\"text/javascript\">window.PlotlyConfig = {MathJaxConfig: 'local'};</script>\n",
              "        <script src=\"https://cdn.plot.ly/plotly-2.8.3.min.js\"></script>                <div id=\"3e6abcdc-917d-4dc8-be73-bad333bd23a2\" class=\"plotly-graph-div\" style=\"height:525px; width:100%;\"></div>            <script type=\"text/javascript\">                                    window.PLOTLYENV=window.PLOTLYENV || {};                                    if (document.getElementById(\"3e6abcdc-917d-4dc8-be73-bad333bd23a2\")) {                    Plotly.newPlot(                        \"3e6abcdc-917d-4dc8-be73-bad333bd23a2\",                        [{\"hovertemplate\":\"variable=actual<br>Actual=%{x}<br>MAPE=%{y}<extra></extra>\",\"legendgroup\":\"actual\",\"line\":{\"color\":\"#636efa\",\"dash\":\"solid\"},\"marker\":{\"symbol\":\"circle\"},\"mode\":\"lines\",\"name\":\"actual\",\"orientation\":\"v\",\"showlegend\":true,\"x\":[0,1,2,3,4,5,6,7,8,9,10,11,12,13,14,15,16,17,18,19,20,21,22,23,24,25,26,27,28,29,30,31,32,33,34,35,36,37,38,39,40,41,42,43,44,45,46,47,48,49,50,51,52,53,54,55,56,57,58,59,60,61,62,63,64,65,66,67,68,69,70,71,72,73,74,75,76,77,78,79,80,81,82,83,84,85,86,87,88,89,90,91,92,93,94,95,96,97,98,99,100,101,102,103,104,105,106,107,108,109,110,111,112,113,114,115,116,117,118,119,120,121,122,123,124,125,126,127,128,129,130,131,132,133,134,135,136,137,138,139,140,141,142,143,144,145,146,147,148,149,150,151,152,153,154,155,156,157,158,159,160,161,162,163,164,165,166,167,168,169,170,171,172,173,174,175,176,177,178,179,180,181,182,183,184,185,186,187,188,189,190,191,192,193,194,195,196,197,198,199,200],\"xaxis\":\"x\",\"y\":[null,49.0,24.0,15.666666666666666,11.5,9.0,7.333333333333333,6.142857142857143,5.25,4.555555555555555,4.0,3.5454545454545454,3.1666666666666665,2.8461538461538463,2.5714285714285716,2.3333333333333335,2.125,1.9411764705882353,1.7777777777777777,1.631578947368421,1.5,1.380952380952381,1.2727272727272727,1.173913043478261,1.0833333333333333,1.0,0.9230769230769231,0.8518518518518519,0.7857142857142857,0.7241379310344828,0.6666666666666666,0.6129032258064516,0.5625,0.5151515151515151,0.47058823529411764,0.42857142857142855,0.3888888888888889,0.35135135135135137,0.3157894736842105,0.28205128205128205,0.25,0.21951219512195122,0.19047619047619047,0.16279069767441862,0.13636363636363635,0.1111111111111111,0.08695652173913043,0.06382978723404255,0.041666666666666664,0.02040816326530612,0.0,0.0196078431372549,0.038461538461538464,0.05660377358490566,0.07407407407407407,0.09090909090909091,0.10714285714285714,0.12280701754385964,0.13793103448275862,0.15254237288135594,0.16666666666666666,0.18032786885245902,0.1935483870967742,0.20634920634920634,0.21875,0.23076923076923078,0.24242424242424243,0.2537313432835821,0.2647058823529412,0.2753623188405797,0.2857142857142857,0.29577464788732394,0.3055555555555556,0.3150684931506849,0.32432432432432434,0.3333333333333333,0.34210526315789475,0.35064935064935066,0.358974358974359,0.3670886075949367,0.375,0.38271604938271603,0.3902439024390244,0.39759036144578314,0.40476190476190477,0.4117647058823529,0.4186046511627907,0.42528735632183906,0.4318181818181818,0.43820224719101125,0.4444444444444444,0.45054945054945056,0.45652173913043476,0.46236559139784944,0.46808510638297873,0.47368421052631576,0.4791666666666667,0.4845360824742268,0.4897959183673469,0.494949494949495,0.5,0.504950495049505,0.5098039215686274,0.5145631067961165,0.5192307692307693,0.5238095238095238,0.5283018867924528,0.5327102803738317,0.5370370370370371,0.5412844036697247,0.5454545454545454,0.5495495495495496,0.5535714285714286,0.5575221238938053,0.5614035087719298,0.5652173913043478,0.5689655172413793,0.5726495726495726,0.576271186440678,0.5798319327731093,0.5833333333333334,0.5867768595041323,0.5901639344262295,0.5934959349593496,0.5967741935483871,0.6,0.6031746031746031,0.6062992125984252,0.609375,0.6124031007751938,0.6153846153846154,0.6183206106870229,0.6212121212121212,0.6240601503759399,0.6268656716417911,0.6296296296296297,0.6323529411764706,0.635036496350365,0.6376811594202898,0.6402877697841727,0.6428571428571429,0.6453900709219859,0.647887323943662,0.6503496503496503,0.6527777777777778,0.6551724137931034,0.6575342465753424,0.6598639455782312,0.6621621621621622,0.6644295302013423,0.6666666666666666,0.6688741721854304,0.6710526315789473,0.673202614379085,0.6753246753246753,0.6774193548387096,0.6794871794871795,0.6815286624203821,0.6835443037974683,0.6855345911949685,0.6875,0.6894409937888198,0.691358024691358,0.6932515337423313,0.6951219512195121,0.696969696969697,0.6987951807228916,0.7005988023952096,0.7023809523809523,0.7041420118343196,0.7058823529411765,0.7076023391812866,0.7093023255813954,0.7109826589595376,0.7126436781609196,0.7142857142857143,0.7159090909090909,0.7175141242937854,0.7191011235955056,0.7206703910614525,0.7222222222222222,0.7237569060773481,0.7252747252747253,0.726775956284153,0.7282608695652174,0.7297297297297297,0.7311827956989247,0.732620320855615,0.7340425531914894,0.7354497354497355,0.7368421052631579,0.7382198952879581,0.7395833333333334,0.7409326424870466,0.7422680412371134,0.7435897435897436,0.7448979591836735,0.7461928934010152,0.7474747474747475,0.7487437185929648,0.75],\"yaxis\":\"y\",\"type\":\"scatter\"},{\"hovertemplate\":\"variable=predicted<br>Actual=%{x}<br>MAPE=%{y}<extra></extra>\",\"legendgroup\":\"predicted\",\"line\":{\"color\":\"#EF553B\",\"dash\":\"solid\"},\"marker\":{\"symbol\":\"circle\"},\"mode\":\"lines\",\"name\":\"predicted\",\"orientation\":\"v\",\"showlegend\":true,\"x\":[50,50,50,50,50,50,50,50,50,50,50,50,50,50,50,50,50,50,50,50,50,50,50,50,50,50,50,50,50,50,50,50,50,50,50,50,50,50,50,50,50,50,50,50,50,50,50,50,50,50,50,50,50,50,50,50,50,50,50,50,50,50,50,50,50,50,50,50,50,50,50,50,50,50,50,50,50,50,50,50,50,50,50,50,50,50,50,50,50,50,50,50,50,50,50,50,50,50,50,50,50,50,50,50,50,50,50,50,50,50,50,50,50,50,50,50,50,50,50,50,50,50,50,50,50,50,50,50,50,50,50,50,50,50,50,50,50,50,50,50,50,50,50,50,50,50,50,50,50,50,50,50,50,50,50,50,50,50,50,50,50,50,50,50,50,50,50,50,50,50,50,50,50,50,50,50,50,50,50,50,50,50,50,50,50,50,50,50,50,50,50,50,50,50,50,50,50,50,50,50,50],\"xaxis\":\"x\",\"y\":[null,49.0,24.0,15.666666666666666,11.5,9.0,7.333333333333333,6.142857142857143,5.25,4.555555555555555,4.0,3.5454545454545454,3.1666666666666665,2.8461538461538463,2.5714285714285716,2.3333333333333335,2.125,1.9411764705882353,1.7777777777777777,1.631578947368421,1.5,1.380952380952381,1.2727272727272727,1.173913043478261,1.0833333333333333,1.0,0.9230769230769231,0.8518518518518519,0.7857142857142857,0.7241379310344828,0.6666666666666666,0.6129032258064516,0.5625,0.5151515151515151,0.47058823529411764,0.42857142857142855,0.3888888888888889,0.35135135135135137,0.3157894736842105,0.28205128205128205,0.25,0.21951219512195122,0.19047619047619047,0.16279069767441862,0.13636363636363635,0.1111111111111111,0.08695652173913043,0.06382978723404255,0.041666666666666664,0.02040816326530612,0.0,0.0196078431372549,0.038461538461538464,0.05660377358490566,0.07407407407407407,0.09090909090909091,0.10714285714285714,0.12280701754385964,0.13793103448275862,0.15254237288135594,0.16666666666666666,0.18032786885245902,0.1935483870967742,0.20634920634920634,0.21875,0.23076923076923078,0.24242424242424243,0.2537313432835821,0.2647058823529412,0.2753623188405797,0.2857142857142857,0.29577464788732394,0.3055555555555556,0.3150684931506849,0.32432432432432434,0.3333333333333333,0.34210526315789475,0.35064935064935066,0.358974358974359,0.3670886075949367,0.375,0.38271604938271603,0.3902439024390244,0.39759036144578314,0.40476190476190477,0.4117647058823529,0.4186046511627907,0.42528735632183906,0.4318181818181818,0.43820224719101125,0.4444444444444444,0.45054945054945056,0.45652173913043476,0.46236559139784944,0.46808510638297873,0.47368421052631576,0.4791666666666667,0.4845360824742268,0.4897959183673469,0.494949494949495,0.5,0.504950495049505,0.5098039215686274,0.5145631067961165,0.5192307692307693,0.5238095238095238,0.5283018867924528,0.5327102803738317,0.5370370370370371,0.5412844036697247,0.5454545454545454,0.5495495495495496,0.5535714285714286,0.5575221238938053,0.5614035087719298,0.5652173913043478,0.5689655172413793,0.5726495726495726,0.576271186440678,0.5798319327731093,0.5833333333333334,0.5867768595041323,0.5901639344262295,0.5934959349593496,0.5967741935483871,0.6,0.6031746031746031,0.6062992125984252,0.609375,0.6124031007751938,0.6153846153846154,0.6183206106870229,0.6212121212121212,0.6240601503759399,0.6268656716417911,0.6296296296296297,0.6323529411764706,0.635036496350365,0.6376811594202898,0.6402877697841727,0.6428571428571429,0.6453900709219859,0.647887323943662,0.6503496503496503,0.6527777777777778,0.6551724137931034,0.6575342465753424,0.6598639455782312,0.6621621621621622,0.6644295302013423,0.6666666666666666,0.6688741721854304,0.6710526315789473,0.673202614379085,0.6753246753246753,0.6774193548387096,0.6794871794871795,0.6815286624203821,0.6835443037974683,0.6855345911949685,0.6875,0.6894409937888198,0.691358024691358,0.6932515337423313,0.6951219512195121,0.696969696969697,0.6987951807228916,0.7005988023952096,0.7023809523809523,0.7041420118343196,0.7058823529411765,0.7076023391812866,0.7093023255813954,0.7109826589595376,0.7126436781609196,0.7142857142857143,0.7159090909090909,0.7175141242937854,0.7191011235955056,0.7206703910614525,0.7222222222222222,0.7237569060773481,0.7252747252747253,0.726775956284153,0.7282608695652174,0.7297297297297297,0.7311827956989247,0.732620320855615,0.7340425531914894,0.7354497354497355,0.7368421052631579,0.7382198952879581,0.7395833333333334,0.7409326424870466,0.7422680412371134,0.7435897435897436,0.7448979591836735,0.7461928934010152,0.7474747474747475,0.7487437185929648,0.75],\"yaxis\":\"y\",\"type\":\"scatter\"}],                        {\"template\":{\"data\":{\"bar\":[{\"error_x\":{\"color\":\"#2a3f5f\"},\"error_y\":{\"color\":\"#2a3f5f\"},\"marker\":{\"line\":{\"color\":\"#E5ECF6\",\"width\":0.5},\"pattern\":{\"fillmode\":\"overlay\",\"size\":10,\"solidity\":0.2}},\"type\":\"bar\"}],\"barpolar\":[{\"marker\":{\"line\":{\"color\":\"#E5ECF6\",\"width\":0.5},\"pattern\":{\"fillmode\":\"overlay\",\"size\":10,\"solidity\":0.2}},\"type\":\"barpolar\"}],\"carpet\":[{\"aaxis\":{\"endlinecolor\":\"#2a3f5f\",\"gridcolor\":\"white\",\"linecolor\":\"white\",\"minorgridcolor\":\"white\",\"startlinecolor\":\"#2a3f5f\"},\"baxis\":{\"endlinecolor\":\"#2a3f5f\",\"gridcolor\":\"white\",\"linecolor\":\"white\",\"minorgridcolor\":\"white\",\"startlinecolor\":\"#2a3f5f\"},\"type\":\"carpet\"}],\"choropleth\":[{\"colorbar\":{\"outlinewidth\":0,\"ticks\":\"\"},\"type\":\"choropleth\"}],\"contour\":[{\"colorbar\":{\"outlinewidth\":0,\"ticks\":\"\"},\"colorscale\":[[0.0,\"#0d0887\"],[0.1111111111111111,\"#46039f\"],[0.2222222222222222,\"#7201a8\"],[0.3333333333333333,\"#9c179e\"],[0.4444444444444444,\"#bd3786\"],[0.5555555555555556,\"#d8576b\"],[0.6666666666666666,\"#ed7953\"],[0.7777777777777778,\"#fb9f3a\"],[0.8888888888888888,\"#fdca26\"],[1.0,\"#f0f921\"]],\"type\":\"contour\"}],\"contourcarpet\":[{\"colorbar\":{\"outlinewidth\":0,\"ticks\":\"\"},\"type\":\"contourcarpet\"}],\"heatmap\":[{\"colorbar\":{\"outlinewidth\":0,\"ticks\":\"\"},\"colorscale\":[[0.0,\"#0d0887\"],[0.1111111111111111,\"#46039f\"],[0.2222222222222222,\"#7201a8\"],[0.3333333333333333,\"#9c179e\"],[0.4444444444444444,\"#bd3786\"],[0.5555555555555556,\"#d8576b\"],[0.6666666666666666,\"#ed7953\"],[0.7777777777777778,\"#fb9f3a\"],[0.8888888888888888,\"#fdca26\"],[1.0,\"#f0f921\"]],\"type\":\"heatmap\"}],\"heatmapgl\":[{\"colorbar\":{\"outlinewidth\":0,\"ticks\":\"\"},\"colorscale\":[[0.0,\"#0d0887\"],[0.1111111111111111,\"#46039f\"],[0.2222222222222222,\"#7201a8\"],[0.3333333333333333,\"#9c179e\"],[0.4444444444444444,\"#bd3786\"],[0.5555555555555556,\"#d8576b\"],[0.6666666666666666,\"#ed7953\"],[0.7777777777777778,\"#fb9f3a\"],[0.8888888888888888,\"#fdca26\"],[1.0,\"#f0f921\"]],\"type\":\"heatmapgl\"}],\"histogram\":[{\"marker\":{\"pattern\":{\"fillmode\":\"overlay\",\"size\":10,\"solidity\":0.2}},\"type\":\"histogram\"}],\"histogram2d\":[{\"colorbar\":{\"outlinewidth\":0,\"ticks\":\"\"},\"colorscale\":[[0.0,\"#0d0887\"],[0.1111111111111111,\"#46039f\"],[0.2222222222222222,\"#7201a8\"],[0.3333333333333333,\"#9c179e\"],[0.4444444444444444,\"#bd3786\"],[0.5555555555555556,\"#d8576b\"],[0.6666666666666666,\"#ed7953\"],[0.7777777777777778,\"#fb9f3a\"],[0.8888888888888888,\"#fdca26\"],[1.0,\"#f0f921\"]],\"type\":\"histogram2d\"}],\"histogram2dcontour\":[{\"colorbar\":{\"outlinewidth\":0,\"ticks\":\"\"},\"colorscale\":[[0.0,\"#0d0887\"],[0.1111111111111111,\"#46039f\"],[0.2222222222222222,\"#7201a8\"],[0.3333333333333333,\"#9c179e\"],[0.4444444444444444,\"#bd3786\"],[0.5555555555555556,\"#d8576b\"],[0.6666666666666666,\"#ed7953\"],[0.7777777777777778,\"#fb9f3a\"],[0.8888888888888888,\"#fdca26\"],[1.0,\"#f0f921\"]],\"type\":\"histogram2dcontour\"}],\"mesh3d\":[{\"colorbar\":{\"outlinewidth\":0,\"ticks\":\"\"},\"type\":\"mesh3d\"}],\"parcoords\":[{\"line\":{\"colorbar\":{\"outlinewidth\":0,\"ticks\":\"\"}},\"type\":\"parcoords\"}],\"pie\":[{\"automargin\":true,\"type\":\"pie\"}],\"scatter\":[{\"marker\":{\"colorbar\":{\"outlinewidth\":0,\"ticks\":\"\"}},\"type\":\"scatter\"}],\"scatter3d\":[{\"line\":{\"colorbar\":{\"outlinewidth\":0,\"ticks\":\"\"}},\"marker\":{\"colorbar\":{\"outlinewidth\":0,\"ticks\":\"\"}},\"type\":\"scatter3d\"}],\"scattercarpet\":[{\"marker\":{\"colorbar\":{\"outlinewidth\":0,\"ticks\":\"\"}},\"type\":\"scattercarpet\"}],\"scattergeo\":[{\"marker\":{\"colorbar\":{\"outlinewidth\":0,\"ticks\":\"\"}},\"type\":\"scattergeo\"}],\"scattergl\":[{\"marker\":{\"colorbar\":{\"outlinewidth\":0,\"ticks\":\"\"}},\"type\":\"scattergl\"}],\"scattermapbox\":[{\"marker\":{\"colorbar\":{\"outlinewidth\":0,\"ticks\":\"\"}},\"type\":\"scattermapbox\"}],\"scatterpolar\":[{\"marker\":{\"colorbar\":{\"outlinewidth\":0,\"ticks\":\"\"}},\"type\":\"scatterpolar\"}],\"scatterpolargl\":[{\"marker\":{\"colorbar\":{\"outlinewidth\":0,\"ticks\":\"\"}},\"type\":\"scatterpolargl\"}],\"scatterternary\":[{\"marker\":{\"colorbar\":{\"outlinewidth\":0,\"ticks\":\"\"}},\"type\":\"scatterternary\"}],\"surface\":[{\"colorbar\":{\"outlinewidth\":0,\"ticks\":\"\"},\"colorscale\":[[0.0,\"#0d0887\"],[0.1111111111111111,\"#46039f\"],[0.2222222222222222,\"#7201a8\"],[0.3333333333333333,\"#9c179e\"],[0.4444444444444444,\"#bd3786\"],[0.5555555555555556,\"#d8576b\"],[0.6666666666666666,\"#ed7953\"],[0.7777777777777778,\"#fb9f3a\"],[0.8888888888888888,\"#fdca26\"],[1.0,\"#f0f921\"]],\"type\":\"surface\"}],\"table\":[{\"cells\":{\"fill\":{\"color\":\"#EBF0F8\"},\"line\":{\"color\":\"white\"}},\"header\":{\"fill\":{\"color\":\"#C8D4E3\"},\"line\":{\"color\":\"white\"}},\"type\":\"table\"}]},\"layout\":{\"annotationdefaults\":{\"arrowcolor\":\"#2a3f5f\",\"arrowhead\":0,\"arrowwidth\":1},\"autotypenumbers\":\"strict\",\"coloraxis\":{\"colorbar\":{\"outlinewidth\":0,\"ticks\":\"\"}},\"colorscale\":{\"diverging\":[[0,\"#8e0152\"],[0.1,\"#c51b7d\"],[0.2,\"#de77ae\"],[0.3,\"#f1b6da\"],[0.4,\"#fde0ef\"],[0.5,\"#f7f7f7\"],[0.6,\"#e6f5d0\"],[0.7,\"#b8e186\"],[0.8,\"#7fbc41\"],[0.9,\"#4d9221\"],[1,\"#276419\"]],\"sequential\":[[0.0,\"#0d0887\"],[0.1111111111111111,\"#46039f\"],[0.2222222222222222,\"#7201a8\"],[0.3333333333333333,\"#9c179e\"],[0.4444444444444444,\"#bd3786\"],[0.5555555555555556,\"#d8576b\"],[0.6666666666666666,\"#ed7953\"],[0.7777777777777778,\"#fb9f3a\"],[0.8888888888888888,\"#fdca26\"],[1.0,\"#f0f921\"]],\"sequentialminus\":[[0.0,\"#0d0887\"],[0.1111111111111111,\"#46039f\"],[0.2222222222222222,\"#7201a8\"],[0.3333333333333333,\"#9c179e\"],[0.4444444444444444,\"#bd3786\"],[0.5555555555555556,\"#d8576b\"],[0.6666666666666666,\"#ed7953\"],[0.7777777777777778,\"#fb9f3a\"],[0.8888888888888888,\"#fdca26\"],[1.0,\"#f0f921\"]]},\"colorway\":[\"#636efa\",\"#EF553B\",\"#00cc96\",\"#ab63fa\",\"#FFA15A\",\"#19d3f3\",\"#FF6692\",\"#B6E880\",\"#FF97FF\",\"#FECB52\"],\"font\":{\"color\":\"#2a3f5f\"},\"geo\":{\"bgcolor\":\"white\",\"lakecolor\":\"white\",\"landcolor\":\"#E5ECF6\",\"showlakes\":true,\"showland\":true,\"subunitcolor\":\"white\"},\"hoverlabel\":{\"align\":\"left\"},\"hovermode\":\"closest\",\"mapbox\":{\"style\":\"light\"},\"paper_bgcolor\":\"white\",\"plot_bgcolor\":\"#E5ECF6\",\"polar\":{\"angularaxis\":{\"gridcolor\":\"white\",\"linecolor\":\"white\",\"ticks\":\"\"},\"bgcolor\":\"#E5ECF6\",\"radialaxis\":{\"gridcolor\":\"white\",\"linecolor\":\"white\",\"ticks\":\"\"}},\"scene\":{\"xaxis\":{\"backgroundcolor\":\"#E5ECF6\",\"gridcolor\":\"white\",\"gridwidth\":2,\"linecolor\":\"white\",\"showbackground\":true,\"ticks\":\"\",\"zerolinecolor\":\"white\"},\"yaxis\":{\"backgroundcolor\":\"#E5ECF6\",\"gridcolor\":\"white\",\"gridwidth\":2,\"linecolor\":\"white\",\"showbackground\":true,\"ticks\":\"\",\"zerolinecolor\":\"white\"},\"zaxis\":{\"backgroundcolor\":\"#E5ECF6\",\"gridcolor\":\"white\",\"gridwidth\":2,\"linecolor\":\"white\",\"showbackground\":true,\"ticks\":\"\",\"zerolinecolor\":\"white\"}},\"shapedefaults\":{\"line\":{\"color\":\"#2a3f5f\"}},\"ternary\":{\"aaxis\":{\"gridcolor\":\"white\",\"linecolor\":\"white\",\"ticks\":\"\"},\"baxis\":{\"gridcolor\":\"white\",\"linecolor\":\"white\",\"ticks\":\"\"},\"bgcolor\":\"#E5ECF6\",\"caxis\":{\"gridcolor\":\"white\",\"linecolor\":\"white\",\"ticks\":\"\"}},\"title\":{\"x\":0.05},\"xaxis\":{\"automargin\":true,\"gridcolor\":\"white\",\"linecolor\":\"white\",\"ticks\":\"\",\"title\":{\"standoff\":15},\"zerolinecolor\":\"white\",\"zerolinewidth\":2},\"yaxis\":{\"automargin\":true,\"gridcolor\":\"white\",\"linecolor\":\"white\",\"ticks\":\"\",\"title\":{\"standoff\":15},\"zerolinecolor\":\"white\",\"zerolinewidth\":2}}},\"xaxis\":{\"anchor\":\"y\",\"domain\":[0.0,1.0],\"title\":{\"text\":\"Actual\"},\"range\":[0,200]},\"yaxis\":{\"anchor\":\"x\",\"domain\":[0.0,1.0],\"title\":{\"text\":\"MAPE\"},\"range\":[0,50],\"tickformat\":\",.0%\"},\"legend\":{\"title\":{\"text\":\"variable\"},\"tracegroupgap\":0},\"title\":{\"text\":\"Illustration of MAPE Asymmetry\"}},                        {\"responsive\": true}                    ).then(function(){\n",
              "                            \n",
              "var gd = document.getElementById('3e6abcdc-917d-4dc8-be73-bad333bd23a2');\n",
              "var x = new MutationObserver(function (mutations, observer) {{\n",
              "        var display = window.getComputedStyle(gd).display;\n",
              "        if (!display || display === 'none') {{\n",
              "            console.log([gd, 'removed!']);\n",
              "            Plotly.purge(gd);\n",
              "            observer.disconnect();\n",
              "        }}\n",
              "}});\n",
              "\n",
              "// Listen for the removal of the full notebook cells\n",
              "var notebookContainer = gd.closest('#notebook-container');\n",
              "if (notebookContainer) {{\n",
              "    x.observe(notebookContainer, {childList: true});\n",
              "}}\n",
              "\n",
              "// Listen for the clearing of the current output cell\n",
              "var outputEl = gd.closest('.output');\n",
              "if (outputEl) {{\n",
              "    x.observe(outputEl, {childList: true});\n",
              "}}\n",
              "\n",
              "                        })                };                            </script>        </div>\n",
              "</body>\n",
              "</html>"
            ]
          },
          "metadata": {}
        }
      ]
    },
    {
      "cell_type": "code",
      "source": [
        "# show a zoomed in version to highlight the assymetry\n",
        "mape_fig2 = px.line(df, \n",
        "              x=[df['actual'],df['predicted']], \n",
        "              y=df['mape'],\n",
        "              title='Illustration of MAPE Asymmetry - Zoomed In',\n",
        "              labels={'mape':'MAPE', 'value':'Actual'},\n",
        "              range_x=[30,200],\n",
        "              range_y=[0,.75]\n",
        "              )\n",
        "mape_fig2.layout.yaxis.tickformat = ',.0%'\n",
        "mape_fig2.show()"
      ],
      "metadata": {
        "colab": {
          "base_uri": "https://localhost:8080/",
          "height": 542
        },
        "id": "-jSZr8f9YNrq",
        "outputId": "8284e555-a002-41bb-a901-5a9558a3a717"
      },
      "execution_count": 18,
      "outputs": [
        {
          "output_type": "display_data",
          "data": {
            "text/html": [
              "<html>\n",
              "<head><meta charset=\"utf-8\" /></head>\n",
              "<body>\n",
              "    <div>            <script src=\"https://cdnjs.cloudflare.com/ajax/libs/mathjax/2.7.5/MathJax.js?config=TeX-AMS-MML_SVG\"></script><script type=\"text/javascript\">if (window.MathJax) {MathJax.Hub.Config({SVG: {font: \"STIX-Web\"}});}</script>                <script type=\"text/javascript\">window.PlotlyConfig = {MathJaxConfig: 'local'};</script>\n",
              "        <script src=\"https://cdn.plot.ly/plotly-2.8.3.min.js\"></script>                <div id=\"3666bebd-5aa6-47ae-82fc-94b637229275\" class=\"plotly-graph-div\" style=\"height:525px; width:100%;\"></div>            <script type=\"text/javascript\">                                    window.PLOTLYENV=window.PLOTLYENV || {};                                    if (document.getElementById(\"3666bebd-5aa6-47ae-82fc-94b637229275\")) {                    Plotly.newPlot(                        \"3666bebd-5aa6-47ae-82fc-94b637229275\",                        [{\"hovertemplate\":\"variable=actual<br>Actual=%{x}<br>MAPE=%{y}<extra></extra>\",\"legendgroup\":\"actual\",\"line\":{\"color\":\"#636efa\",\"dash\":\"solid\"},\"marker\":{\"symbol\":\"circle\"},\"mode\":\"lines\",\"name\":\"actual\",\"orientation\":\"v\",\"showlegend\":true,\"x\":[0,1,2,3,4,5,6,7,8,9,10,11,12,13,14,15,16,17,18,19,20,21,22,23,24,25,26,27,28,29,30,31,32,33,34,35,36,37,38,39,40,41,42,43,44,45,46,47,48,49,50,51,52,53,54,55,56,57,58,59,60,61,62,63,64,65,66,67,68,69,70,71,72,73,74,75,76,77,78,79,80,81,82,83,84,85,86,87,88,89,90,91,92,93,94,95,96,97,98,99,100,101,102,103,104,105,106,107,108,109,110,111,112,113,114,115,116,117,118,119,120,121,122,123,124,125,126,127,128,129,130,131,132,133,134,135,136,137,138,139,140,141,142,143,144,145,146,147,148,149,150,151,152,153,154,155,156,157,158,159,160,161,162,163,164,165,166,167,168,169,170,171,172,173,174,175,176,177,178,179,180,181,182,183,184,185,186,187,188,189,190,191,192,193,194,195,196,197,198,199,200],\"xaxis\":\"x\",\"y\":[null,49.0,24.0,15.666666666666666,11.5,9.0,7.333333333333333,6.142857142857143,5.25,4.555555555555555,4.0,3.5454545454545454,3.1666666666666665,2.8461538461538463,2.5714285714285716,2.3333333333333335,2.125,1.9411764705882353,1.7777777777777777,1.631578947368421,1.5,1.380952380952381,1.2727272727272727,1.173913043478261,1.0833333333333333,1.0,0.9230769230769231,0.8518518518518519,0.7857142857142857,0.7241379310344828,0.6666666666666666,0.6129032258064516,0.5625,0.5151515151515151,0.47058823529411764,0.42857142857142855,0.3888888888888889,0.35135135135135137,0.3157894736842105,0.28205128205128205,0.25,0.21951219512195122,0.19047619047619047,0.16279069767441862,0.13636363636363635,0.1111111111111111,0.08695652173913043,0.06382978723404255,0.041666666666666664,0.02040816326530612,0.0,0.0196078431372549,0.038461538461538464,0.05660377358490566,0.07407407407407407,0.09090909090909091,0.10714285714285714,0.12280701754385964,0.13793103448275862,0.15254237288135594,0.16666666666666666,0.18032786885245902,0.1935483870967742,0.20634920634920634,0.21875,0.23076923076923078,0.24242424242424243,0.2537313432835821,0.2647058823529412,0.2753623188405797,0.2857142857142857,0.29577464788732394,0.3055555555555556,0.3150684931506849,0.32432432432432434,0.3333333333333333,0.34210526315789475,0.35064935064935066,0.358974358974359,0.3670886075949367,0.375,0.38271604938271603,0.3902439024390244,0.39759036144578314,0.40476190476190477,0.4117647058823529,0.4186046511627907,0.42528735632183906,0.4318181818181818,0.43820224719101125,0.4444444444444444,0.45054945054945056,0.45652173913043476,0.46236559139784944,0.46808510638297873,0.47368421052631576,0.4791666666666667,0.4845360824742268,0.4897959183673469,0.494949494949495,0.5,0.504950495049505,0.5098039215686274,0.5145631067961165,0.5192307692307693,0.5238095238095238,0.5283018867924528,0.5327102803738317,0.5370370370370371,0.5412844036697247,0.5454545454545454,0.5495495495495496,0.5535714285714286,0.5575221238938053,0.5614035087719298,0.5652173913043478,0.5689655172413793,0.5726495726495726,0.576271186440678,0.5798319327731093,0.5833333333333334,0.5867768595041323,0.5901639344262295,0.5934959349593496,0.5967741935483871,0.6,0.6031746031746031,0.6062992125984252,0.609375,0.6124031007751938,0.6153846153846154,0.6183206106870229,0.6212121212121212,0.6240601503759399,0.6268656716417911,0.6296296296296297,0.6323529411764706,0.635036496350365,0.6376811594202898,0.6402877697841727,0.6428571428571429,0.6453900709219859,0.647887323943662,0.6503496503496503,0.6527777777777778,0.6551724137931034,0.6575342465753424,0.6598639455782312,0.6621621621621622,0.6644295302013423,0.6666666666666666,0.6688741721854304,0.6710526315789473,0.673202614379085,0.6753246753246753,0.6774193548387096,0.6794871794871795,0.6815286624203821,0.6835443037974683,0.6855345911949685,0.6875,0.6894409937888198,0.691358024691358,0.6932515337423313,0.6951219512195121,0.696969696969697,0.6987951807228916,0.7005988023952096,0.7023809523809523,0.7041420118343196,0.7058823529411765,0.7076023391812866,0.7093023255813954,0.7109826589595376,0.7126436781609196,0.7142857142857143,0.7159090909090909,0.7175141242937854,0.7191011235955056,0.7206703910614525,0.7222222222222222,0.7237569060773481,0.7252747252747253,0.726775956284153,0.7282608695652174,0.7297297297297297,0.7311827956989247,0.732620320855615,0.7340425531914894,0.7354497354497355,0.7368421052631579,0.7382198952879581,0.7395833333333334,0.7409326424870466,0.7422680412371134,0.7435897435897436,0.7448979591836735,0.7461928934010152,0.7474747474747475,0.7487437185929648,0.75],\"yaxis\":\"y\",\"type\":\"scatter\"},{\"hovertemplate\":\"variable=predicted<br>Actual=%{x}<br>MAPE=%{y}<extra></extra>\",\"legendgroup\":\"predicted\",\"line\":{\"color\":\"#EF553B\",\"dash\":\"solid\"},\"marker\":{\"symbol\":\"circle\"},\"mode\":\"lines\",\"name\":\"predicted\",\"orientation\":\"v\",\"showlegend\":true,\"x\":[50,50,50,50,50,50,50,50,50,50,50,50,50,50,50,50,50,50,50,50,50,50,50,50,50,50,50,50,50,50,50,50,50,50,50,50,50,50,50,50,50,50,50,50,50,50,50,50,50,50,50,50,50,50,50,50,50,50,50,50,50,50,50,50,50,50,50,50,50,50,50,50,50,50,50,50,50,50,50,50,50,50,50,50,50,50,50,50,50,50,50,50,50,50,50,50,50,50,50,50,50,50,50,50,50,50,50,50,50,50,50,50,50,50,50,50,50,50,50,50,50,50,50,50,50,50,50,50,50,50,50,50,50,50,50,50,50,50,50,50,50,50,50,50,50,50,50,50,50,50,50,50,50,50,50,50,50,50,50,50,50,50,50,50,50,50,50,50,50,50,50,50,50,50,50,50,50,50,50,50,50,50,50,50,50,50,50,50,50,50,50,50,50,50,50,50,50,50,50,50,50],\"xaxis\":\"x\",\"y\":[null,49.0,24.0,15.666666666666666,11.5,9.0,7.333333333333333,6.142857142857143,5.25,4.555555555555555,4.0,3.5454545454545454,3.1666666666666665,2.8461538461538463,2.5714285714285716,2.3333333333333335,2.125,1.9411764705882353,1.7777777777777777,1.631578947368421,1.5,1.380952380952381,1.2727272727272727,1.173913043478261,1.0833333333333333,1.0,0.9230769230769231,0.8518518518518519,0.7857142857142857,0.7241379310344828,0.6666666666666666,0.6129032258064516,0.5625,0.5151515151515151,0.47058823529411764,0.42857142857142855,0.3888888888888889,0.35135135135135137,0.3157894736842105,0.28205128205128205,0.25,0.21951219512195122,0.19047619047619047,0.16279069767441862,0.13636363636363635,0.1111111111111111,0.08695652173913043,0.06382978723404255,0.041666666666666664,0.02040816326530612,0.0,0.0196078431372549,0.038461538461538464,0.05660377358490566,0.07407407407407407,0.09090909090909091,0.10714285714285714,0.12280701754385964,0.13793103448275862,0.15254237288135594,0.16666666666666666,0.18032786885245902,0.1935483870967742,0.20634920634920634,0.21875,0.23076923076923078,0.24242424242424243,0.2537313432835821,0.2647058823529412,0.2753623188405797,0.2857142857142857,0.29577464788732394,0.3055555555555556,0.3150684931506849,0.32432432432432434,0.3333333333333333,0.34210526315789475,0.35064935064935066,0.358974358974359,0.3670886075949367,0.375,0.38271604938271603,0.3902439024390244,0.39759036144578314,0.40476190476190477,0.4117647058823529,0.4186046511627907,0.42528735632183906,0.4318181818181818,0.43820224719101125,0.4444444444444444,0.45054945054945056,0.45652173913043476,0.46236559139784944,0.46808510638297873,0.47368421052631576,0.4791666666666667,0.4845360824742268,0.4897959183673469,0.494949494949495,0.5,0.504950495049505,0.5098039215686274,0.5145631067961165,0.5192307692307693,0.5238095238095238,0.5283018867924528,0.5327102803738317,0.5370370370370371,0.5412844036697247,0.5454545454545454,0.5495495495495496,0.5535714285714286,0.5575221238938053,0.5614035087719298,0.5652173913043478,0.5689655172413793,0.5726495726495726,0.576271186440678,0.5798319327731093,0.5833333333333334,0.5867768595041323,0.5901639344262295,0.5934959349593496,0.5967741935483871,0.6,0.6031746031746031,0.6062992125984252,0.609375,0.6124031007751938,0.6153846153846154,0.6183206106870229,0.6212121212121212,0.6240601503759399,0.6268656716417911,0.6296296296296297,0.6323529411764706,0.635036496350365,0.6376811594202898,0.6402877697841727,0.6428571428571429,0.6453900709219859,0.647887323943662,0.6503496503496503,0.6527777777777778,0.6551724137931034,0.6575342465753424,0.6598639455782312,0.6621621621621622,0.6644295302013423,0.6666666666666666,0.6688741721854304,0.6710526315789473,0.673202614379085,0.6753246753246753,0.6774193548387096,0.6794871794871795,0.6815286624203821,0.6835443037974683,0.6855345911949685,0.6875,0.6894409937888198,0.691358024691358,0.6932515337423313,0.6951219512195121,0.696969696969697,0.6987951807228916,0.7005988023952096,0.7023809523809523,0.7041420118343196,0.7058823529411765,0.7076023391812866,0.7093023255813954,0.7109826589595376,0.7126436781609196,0.7142857142857143,0.7159090909090909,0.7175141242937854,0.7191011235955056,0.7206703910614525,0.7222222222222222,0.7237569060773481,0.7252747252747253,0.726775956284153,0.7282608695652174,0.7297297297297297,0.7311827956989247,0.732620320855615,0.7340425531914894,0.7354497354497355,0.7368421052631579,0.7382198952879581,0.7395833333333334,0.7409326424870466,0.7422680412371134,0.7435897435897436,0.7448979591836735,0.7461928934010152,0.7474747474747475,0.7487437185929648,0.75],\"yaxis\":\"y\",\"type\":\"scatter\"}],                        {\"template\":{\"data\":{\"bar\":[{\"error_x\":{\"color\":\"#2a3f5f\"},\"error_y\":{\"color\":\"#2a3f5f\"},\"marker\":{\"line\":{\"color\":\"#E5ECF6\",\"width\":0.5},\"pattern\":{\"fillmode\":\"overlay\",\"size\":10,\"solidity\":0.2}},\"type\":\"bar\"}],\"barpolar\":[{\"marker\":{\"line\":{\"color\":\"#E5ECF6\",\"width\":0.5},\"pattern\":{\"fillmode\":\"overlay\",\"size\":10,\"solidity\":0.2}},\"type\":\"barpolar\"}],\"carpet\":[{\"aaxis\":{\"endlinecolor\":\"#2a3f5f\",\"gridcolor\":\"white\",\"linecolor\":\"white\",\"minorgridcolor\":\"white\",\"startlinecolor\":\"#2a3f5f\"},\"baxis\":{\"endlinecolor\":\"#2a3f5f\",\"gridcolor\":\"white\",\"linecolor\":\"white\",\"minorgridcolor\":\"white\",\"startlinecolor\":\"#2a3f5f\"},\"type\":\"carpet\"}],\"choropleth\":[{\"colorbar\":{\"outlinewidth\":0,\"ticks\":\"\"},\"type\":\"choropleth\"}],\"contour\":[{\"colorbar\":{\"outlinewidth\":0,\"ticks\":\"\"},\"colorscale\":[[0.0,\"#0d0887\"],[0.1111111111111111,\"#46039f\"],[0.2222222222222222,\"#7201a8\"],[0.3333333333333333,\"#9c179e\"],[0.4444444444444444,\"#bd3786\"],[0.5555555555555556,\"#d8576b\"],[0.6666666666666666,\"#ed7953\"],[0.7777777777777778,\"#fb9f3a\"],[0.8888888888888888,\"#fdca26\"],[1.0,\"#f0f921\"]],\"type\":\"contour\"}],\"contourcarpet\":[{\"colorbar\":{\"outlinewidth\":0,\"ticks\":\"\"},\"type\":\"contourcarpet\"}],\"heatmap\":[{\"colorbar\":{\"outlinewidth\":0,\"ticks\":\"\"},\"colorscale\":[[0.0,\"#0d0887\"],[0.1111111111111111,\"#46039f\"],[0.2222222222222222,\"#7201a8\"],[0.3333333333333333,\"#9c179e\"],[0.4444444444444444,\"#bd3786\"],[0.5555555555555556,\"#d8576b\"],[0.6666666666666666,\"#ed7953\"],[0.7777777777777778,\"#fb9f3a\"],[0.8888888888888888,\"#fdca26\"],[1.0,\"#f0f921\"]],\"type\":\"heatmap\"}],\"heatmapgl\":[{\"colorbar\":{\"outlinewidth\":0,\"ticks\":\"\"},\"colorscale\":[[0.0,\"#0d0887\"],[0.1111111111111111,\"#46039f\"],[0.2222222222222222,\"#7201a8\"],[0.3333333333333333,\"#9c179e\"],[0.4444444444444444,\"#bd3786\"],[0.5555555555555556,\"#d8576b\"],[0.6666666666666666,\"#ed7953\"],[0.7777777777777778,\"#fb9f3a\"],[0.8888888888888888,\"#fdca26\"],[1.0,\"#f0f921\"]],\"type\":\"heatmapgl\"}],\"histogram\":[{\"marker\":{\"pattern\":{\"fillmode\":\"overlay\",\"size\":10,\"solidity\":0.2}},\"type\":\"histogram\"}],\"histogram2d\":[{\"colorbar\":{\"outlinewidth\":0,\"ticks\":\"\"},\"colorscale\":[[0.0,\"#0d0887\"],[0.1111111111111111,\"#46039f\"],[0.2222222222222222,\"#7201a8\"],[0.3333333333333333,\"#9c179e\"],[0.4444444444444444,\"#bd3786\"],[0.5555555555555556,\"#d8576b\"],[0.6666666666666666,\"#ed7953\"],[0.7777777777777778,\"#fb9f3a\"],[0.8888888888888888,\"#fdca26\"],[1.0,\"#f0f921\"]],\"type\":\"histogram2d\"}],\"histogram2dcontour\":[{\"colorbar\":{\"outlinewidth\":0,\"ticks\":\"\"},\"colorscale\":[[0.0,\"#0d0887\"],[0.1111111111111111,\"#46039f\"],[0.2222222222222222,\"#7201a8\"],[0.3333333333333333,\"#9c179e\"],[0.4444444444444444,\"#bd3786\"],[0.5555555555555556,\"#d8576b\"],[0.6666666666666666,\"#ed7953\"],[0.7777777777777778,\"#fb9f3a\"],[0.8888888888888888,\"#fdca26\"],[1.0,\"#f0f921\"]],\"type\":\"histogram2dcontour\"}],\"mesh3d\":[{\"colorbar\":{\"outlinewidth\":0,\"ticks\":\"\"},\"type\":\"mesh3d\"}],\"parcoords\":[{\"line\":{\"colorbar\":{\"outlinewidth\":0,\"ticks\":\"\"}},\"type\":\"parcoords\"}],\"pie\":[{\"automargin\":true,\"type\":\"pie\"}],\"scatter\":[{\"marker\":{\"colorbar\":{\"outlinewidth\":0,\"ticks\":\"\"}},\"type\":\"scatter\"}],\"scatter3d\":[{\"line\":{\"colorbar\":{\"outlinewidth\":0,\"ticks\":\"\"}},\"marker\":{\"colorbar\":{\"outlinewidth\":0,\"ticks\":\"\"}},\"type\":\"scatter3d\"}],\"scattercarpet\":[{\"marker\":{\"colorbar\":{\"outlinewidth\":0,\"ticks\":\"\"}},\"type\":\"scattercarpet\"}],\"scattergeo\":[{\"marker\":{\"colorbar\":{\"outlinewidth\":0,\"ticks\":\"\"}},\"type\":\"scattergeo\"}],\"scattergl\":[{\"marker\":{\"colorbar\":{\"outlinewidth\":0,\"ticks\":\"\"}},\"type\":\"scattergl\"}],\"scattermapbox\":[{\"marker\":{\"colorbar\":{\"outlinewidth\":0,\"ticks\":\"\"}},\"type\":\"scattermapbox\"}],\"scatterpolar\":[{\"marker\":{\"colorbar\":{\"outlinewidth\":0,\"ticks\":\"\"}},\"type\":\"scatterpolar\"}],\"scatterpolargl\":[{\"marker\":{\"colorbar\":{\"outlinewidth\":0,\"ticks\":\"\"}},\"type\":\"scatterpolargl\"}],\"scatterternary\":[{\"marker\":{\"colorbar\":{\"outlinewidth\":0,\"ticks\":\"\"}},\"type\":\"scatterternary\"}],\"surface\":[{\"colorbar\":{\"outlinewidth\":0,\"ticks\":\"\"},\"colorscale\":[[0.0,\"#0d0887\"],[0.1111111111111111,\"#46039f\"],[0.2222222222222222,\"#7201a8\"],[0.3333333333333333,\"#9c179e\"],[0.4444444444444444,\"#bd3786\"],[0.5555555555555556,\"#d8576b\"],[0.6666666666666666,\"#ed7953\"],[0.7777777777777778,\"#fb9f3a\"],[0.8888888888888888,\"#fdca26\"],[1.0,\"#f0f921\"]],\"type\":\"surface\"}],\"table\":[{\"cells\":{\"fill\":{\"color\":\"#EBF0F8\"},\"line\":{\"color\":\"white\"}},\"header\":{\"fill\":{\"color\":\"#C8D4E3\"},\"line\":{\"color\":\"white\"}},\"type\":\"table\"}]},\"layout\":{\"annotationdefaults\":{\"arrowcolor\":\"#2a3f5f\",\"arrowhead\":0,\"arrowwidth\":1},\"autotypenumbers\":\"strict\",\"coloraxis\":{\"colorbar\":{\"outlinewidth\":0,\"ticks\":\"\"}},\"colorscale\":{\"diverging\":[[0,\"#8e0152\"],[0.1,\"#c51b7d\"],[0.2,\"#de77ae\"],[0.3,\"#f1b6da\"],[0.4,\"#fde0ef\"],[0.5,\"#f7f7f7\"],[0.6,\"#e6f5d0\"],[0.7,\"#b8e186\"],[0.8,\"#7fbc41\"],[0.9,\"#4d9221\"],[1,\"#276419\"]],\"sequential\":[[0.0,\"#0d0887\"],[0.1111111111111111,\"#46039f\"],[0.2222222222222222,\"#7201a8\"],[0.3333333333333333,\"#9c179e\"],[0.4444444444444444,\"#bd3786\"],[0.5555555555555556,\"#d8576b\"],[0.6666666666666666,\"#ed7953\"],[0.7777777777777778,\"#fb9f3a\"],[0.8888888888888888,\"#fdca26\"],[1.0,\"#f0f921\"]],\"sequentialminus\":[[0.0,\"#0d0887\"],[0.1111111111111111,\"#46039f\"],[0.2222222222222222,\"#7201a8\"],[0.3333333333333333,\"#9c179e\"],[0.4444444444444444,\"#bd3786\"],[0.5555555555555556,\"#d8576b\"],[0.6666666666666666,\"#ed7953\"],[0.7777777777777778,\"#fb9f3a\"],[0.8888888888888888,\"#fdca26\"],[1.0,\"#f0f921\"]]},\"colorway\":[\"#636efa\",\"#EF553B\",\"#00cc96\",\"#ab63fa\",\"#FFA15A\",\"#19d3f3\",\"#FF6692\",\"#B6E880\",\"#FF97FF\",\"#FECB52\"],\"font\":{\"color\":\"#2a3f5f\"},\"geo\":{\"bgcolor\":\"white\",\"lakecolor\":\"white\",\"landcolor\":\"#E5ECF6\",\"showlakes\":true,\"showland\":true,\"subunitcolor\":\"white\"},\"hoverlabel\":{\"align\":\"left\"},\"hovermode\":\"closest\",\"mapbox\":{\"style\":\"light\"},\"paper_bgcolor\":\"white\",\"plot_bgcolor\":\"#E5ECF6\",\"polar\":{\"angularaxis\":{\"gridcolor\":\"white\",\"linecolor\":\"white\",\"ticks\":\"\"},\"bgcolor\":\"#E5ECF6\",\"radialaxis\":{\"gridcolor\":\"white\",\"linecolor\":\"white\",\"ticks\":\"\"}},\"scene\":{\"xaxis\":{\"backgroundcolor\":\"#E5ECF6\",\"gridcolor\":\"white\",\"gridwidth\":2,\"linecolor\":\"white\",\"showbackground\":true,\"ticks\":\"\",\"zerolinecolor\":\"white\"},\"yaxis\":{\"backgroundcolor\":\"#E5ECF6\",\"gridcolor\":\"white\",\"gridwidth\":2,\"linecolor\":\"white\",\"showbackground\":true,\"ticks\":\"\",\"zerolinecolor\":\"white\"},\"zaxis\":{\"backgroundcolor\":\"#E5ECF6\",\"gridcolor\":\"white\",\"gridwidth\":2,\"linecolor\":\"white\",\"showbackground\":true,\"ticks\":\"\",\"zerolinecolor\":\"white\"}},\"shapedefaults\":{\"line\":{\"color\":\"#2a3f5f\"}},\"ternary\":{\"aaxis\":{\"gridcolor\":\"white\",\"linecolor\":\"white\",\"ticks\":\"\"},\"baxis\":{\"gridcolor\":\"white\",\"linecolor\":\"white\",\"ticks\":\"\"},\"bgcolor\":\"#E5ECF6\",\"caxis\":{\"gridcolor\":\"white\",\"linecolor\":\"white\",\"ticks\":\"\"}},\"title\":{\"x\":0.05},\"xaxis\":{\"automargin\":true,\"gridcolor\":\"white\",\"linecolor\":\"white\",\"ticks\":\"\",\"title\":{\"standoff\":15},\"zerolinecolor\":\"white\",\"zerolinewidth\":2},\"yaxis\":{\"automargin\":true,\"gridcolor\":\"white\",\"linecolor\":\"white\",\"ticks\":\"\",\"title\":{\"standoff\":15},\"zerolinecolor\":\"white\",\"zerolinewidth\":2}}},\"xaxis\":{\"anchor\":\"y\",\"domain\":[0.0,1.0],\"title\":{\"text\":\"Actual\"},\"range\":[30,200]},\"yaxis\":{\"anchor\":\"x\",\"domain\":[0.0,1.0],\"title\":{\"text\":\"MAPE\"},\"range\":[0,0.75],\"tickformat\":\",.0%\"},\"legend\":{\"title\":{\"text\":\"variable\"},\"tracegroupgap\":0},\"title\":{\"text\":\"Illustration of MAPE Asymmetry - Zoomed In\"}},                        {\"responsive\": true}                    ).then(function(){\n",
              "                            \n",
              "var gd = document.getElementById('3666bebd-5aa6-47ae-82fc-94b637229275');\n",
              "var x = new MutationObserver(function (mutations, observer) {{\n",
              "        var display = window.getComputedStyle(gd).display;\n",
              "        if (!display || display === 'none') {{\n",
              "            console.log([gd, 'removed!']);\n",
              "            Plotly.purge(gd);\n",
              "            observer.disconnect();\n",
              "        }}\n",
              "}});\n",
              "\n",
              "// Listen for the removal of the full notebook cells\n",
              "var notebookContainer = gd.closest('#notebook-container');\n",
              "if (notebookContainer) {{\n",
              "    x.observe(notebookContainer, {childList: true});\n",
              "}}\n",
              "\n",
              "// Listen for the clearing of the current output cell\n",
              "var outputEl = gd.closest('.output');\n",
              "if (outputEl) {{\n",
              "    x.observe(outputEl, {childList: true});\n",
              "}}\n",
              "\n",
              "                        })                };                            </script>        </div>\n",
              "</body>\n",
              "</html>"
            ]
          },
          "metadata": {}
        }
      ]
    },
    {
      "cell_type": "markdown",
      "source": [
        "---\n",
        "# SMAPE - Symmetric Mean Absolute Percent Error\n",
        "\n",
        "$$\\text{SMAPE} = \\frac{100 \\%}{n} \\sum\\limits_{t=1}^n \\frac{|F_{t} - A_{t}|}{(|A_{t}| + |F_{t}|)/2}$$\n",
        "\n",
        "$\\text{SMAPE}$ is an attempt to bring some relative symmetry to the $\\text{MAPE}$ value. You can see, it does constrain the metric between 0 - 200%, but it is still not symmetric."
      ],
      "metadata": {
        "id": "ZH3LNPiEpVWi"
      }
    },
    {
      "cell_type": "code",
      "source": [
        "# create a line graph of our values\n",
        "smape_fig = px.line(df, \n",
        "              x=[df['actual'],df['predicted']], \n",
        "              y=df['smape'],\n",
        "              title='Illustration of SMAPE Asymmetry',\n",
        "              labels={'smape':'SMAPE', 'value':'Actual'},\n",
        "              range_x=[0,200],\n",
        "              range_y=[0,2]\n",
        "              )\n",
        "smape_fig.layout.yaxis.tickformat = ',.0%'\n",
        "smape_fig.show()"
      ],
      "metadata": {
        "colab": {
          "base_uri": "https://localhost:8080/",
          "height": 542
        },
        "outputId": "a4e9ca13-9823-41db-8e08-62c8a171af7f",
        "id": "Q2tc_YTFm5vQ"
      },
      "execution_count": 19,
      "outputs": [
        {
          "output_type": "display_data",
          "data": {
            "text/html": [
              "<html>\n",
              "<head><meta charset=\"utf-8\" /></head>\n",
              "<body>\n",
              "    <div>            <script src=\"https://cdnjs.cloudflare.com/ajax/libs/mathjax/2.7.5/MathJax.js?config=TeX-AMS-MML_SVG\"></script><script type=\"text/javascript\">if (window.MathJax) {MathJax.Hub.Config({SVG: {font: \"STIX-Web\"}});}</script>                <script type=\"text/javascript\">window.PlotlyConfig = {MathJaxConfig: 'local'};</script>\n",
              "        <script src=\"https://cdn.plot.ly/plotly-2.8.3.min.js\"></script>                <div id=\"3bc3037e-ddbd-48a9-bb7d-66b434986b74\" class=\"plotly-graph-div\" style=\"height:525px; width:100%;\"></div>            <script type=\"text/javascript\">                                    window.PLOTLYENV=window.PLOTLYENV || {};                                    if (document.getElementById(\"3bc3037e-ddbd-48a9-bb7d-66b434986b74\")) {                    Plotly.newPlot(                        \"3bc3037e-ddbd-48a9-bb7d-66b434986b74\",                        [{\"hovertemplate\":\"variable=actual<br>Actual=%{x}<br>SMAPE=%{y}<extra></extra>\",\"legendgroup\":\"actual\",\"line\":{\"color\":\"#636efa\",\"dash\":\"solid\"},\"marker\":{\"symbol\":\"circle\"},\"mode\":\"lines\",\"name\":\"actual\",\"orientation\":\"v\",\"showlegend\":true,\"x\":[0,1,2,3,4,5,6,7,8,9,10,11,12,13,14,15,16,17,18,19,20,21,22,23,24,25,26,27,28,29,30,31,32,33,34,35,36,37,38,39,40,41,42,43,44,45,46,47,48,49,50,51,52,53,54,55,56,57,58,59,60,61,62,63,64,65,66,67,68,69,70,71,72,73,74,75,76,77,78,79,80,81,82,83,84,85,86,87,88,89,90,91,92,93,94,95,96,97,98,99,100,101,102,103,104,105,106,107,108,109,110,111,112,113,114,115,116,117,118,119,120,121,122,123,124,125,126,127,128,129,130,131,132,133,134,135,136,137,138,139,140,141,142,143,144,145,146,147,148,149,150,151,152,153,154,155,156,157,158,159,160,161,162,163,164,165,166,167,168,169,170,171,172,173,174,175,176,177,178,179,180,181,182,183,184,185,186,187,188,189,190,191,192,193,194,195,196,197,198,199,200],\"xaxis\":\"x\",\"y\":[2.0,1.9215686274509804,1.8461538461538463,1.7735849056603774,1.7037037037037037,1.6363636363636365,1.5714285714285714,1.5087719298245614,1.4482758620689655,1.3898305084745763,1.3333333333333333,1.278688524590164,1.2258064516129032,1.1746031746031746,1.125,1.0769230769230769,1.0303030303030303,0.9850746268656716,0.9411764705882353,0.8985507246376812,0.8571428571428571,0.8169014084507042,0.7777777777777778,0.7397260273972602,0.7027027027027027,0.6666666666666666,0.631578947368421,0.5974025974025974,0.5641025641025641,0.5316455696202531,0.5,0.4691358024691358,0.43902439024390244,0.40963855421686746,0.38095238095238093,0.35294117647058826,0.32558139534883723,0.2988505747126437,0.2727272727272727,0.24719101123595505,0.2222222222222222,0.1978021978021978,0.17391304347826086,0.15053763440860216,0.1276595744680851,0.10526315789473684,0.08333333333333333,0.061855670103092786,0.04081632653061224,0.020202020202020204,0.0,0.019801980198019802,0.0392156862745098,0.05825242718446602,0.07692307692307693,0.09523809523809523,0.11320754716981132,0.1308411214953271,0.14814814814814814,0.1651376146788991,0.18181818181818182,0.1981981981981982,0.21428571428571427,0.23008849557522124,0.24561403508771928,0.2608695652173913,0.27586206896551724,0.2905982905982906,0.3050847457627119,0.31932773109243695,0.3333333333333333,0.34710743801652894,0.36065573770491804,0.37398373983739835,0.3870967741935484,0.4,0.4126984126984127,0.4251968503937008,0.4375,0.4496124031007752,0.46153846153846156,0.4732824427480916,0.48484848484848486,0.49624060150375937,0.5074626865671642,0.5185185185185185,0.5294117647058824,0.5401459854014599,0.5507246376811594,0.5611510791366906,0.5714285714285714,0.5815602836879432,0.5915492957746479,0.6013986013986014,0.6111111111111112,0.6206896551724138,0.6301369863013698,0.6394557823129252,0.6486486486486487,0.6577181208053692,0.6666666666666666,0.6754966887417219,0.6842105263157895,0.6928104575163399,0.7012987012987013,0.7096774193548387,0.717948717948718,0.7261146496815286,0.7341772151898734,0.7421383647798742,0.75,0.7577639751552795,0.7654320987654321,0.7730061349693251,0.7804878048780488,0.7878787878787878,0.7951807228915663,0.8023952095808383,0.8095238095238095,0.8165680473372781,0.8235294117647058,0.8304093567251462,0.8372093023255814,0.8439306358381503,0.8505747126436781,0.8571428571428571,0.8636363636363636,0.8700564971751412,0.8764044943820225,0.88268156424581,0.8888888888888888,0.8950276243093923,0.9010989010989011,0.907103825136612,0.9130434782608695,0.918918918918919,0.9247311827956989,0.93048128342246,0.9361702127659575,0.9417989417989417,0.9473684210526315,0.9528795811518325,0.9583333333333334,0.9637305699481865,0.9690721649484536,0.9743589743589743,0.9795918367346939,0.9847715736040609,0.98989898989899,0.9949748743718593,1.0,1.0049751243781095,1.00990099009901,1.0147783251231528,1.0196078431372548,1.024390243902439,1.029126213592233,1.0338164251207729,1.0384615384615385,1.0430622009569377,1.0476190476190477,1.052132701421801,1.0566037735849056,1.0610328638497653,1.0654205607476634,1.069767441860465,1.0740740740740742,1.0783410138248848,1.0825688073394495,1.08675799086758,1.0909090909090908,1.0950226244343892,1.0990990990990992,1.1031390134529149,1.1071428571428572,1.1111111111111112,1.1150442477876106,1.118942731277533,1.1228070175438596,1.1266375545851528,1.1304347826086956,1.1341991341991342,1.1379310344827587,1.1416309012875536,1.1452991452991452,1.148936170212766,1.152542372881356,1.1561181434599157,1.1596638655462186,1.1631799163179917,1.1666666666666667,1.170124481327801,1.1735537190082646,1.176954732510288,1.180327868852459,1.183673469387755,1.1869918699186992,1.1902834008097165,1.1935483870967742,1.1967871485943775,1.2],\"yaxis\":\"y\",\"type\":\"scatter\"},{\"hovertemplate\":\"variable=predicted<br>Actual=%{x}<br>SMAPE=%{y}<extra></extra>\",\"legendgroup\":\"predicted\",\"line\":{\"color\":\"#EF553B\",\"dash\":\"solid\"},\"marker\":{\"symbol\":\"circle\"},\"mode\":\"lines\",\"name\":\"predicted\",\"orientation\":\"v\",\"showlegend\":true,\"x\":[50,50,50,50,50,50,50,50,50,50,50,50,50,50,50,50,50,50,50,50,50,50,50,50,50,50,50,50,50,50,50,50,50,50,50,50,50,50,50,50,50,50,50,50,50,50,50,50,50,50,50,50,50,50,50,50,50,50,50,50,50,50,50,50,50,50,50,50,50,50,50,50,50,50,50,50,50,50,50,50,50,50,50,50,50,50,50,50,50,50,50,50,50,50,50,50,50,50,50,50,50,50,50,50,50,50,50,50,50,50,50,50,50,50,50,50,50,50,50,50,50,50,50,50,50,50,50,50,50,50,50,50,50,50,50,50,50,50,50,50,50,50,50,50,50,50,50,50,50,50,50,50,50,50,50,50,50,50,50,50,50,50,50,50,50,50,50,50,50,50,50,50,50,50,50,50,50,50,50,50,50,50,50,50,50,50,50,50,50,50,50,50,50,50,50,50,50,50,50,50,50],\"xaxis\":\"x\",\"y\":[2.0,1.9215686274509804,1.8461538461538463,1.7735849056603774,1.7037037037037037,1.6363636363636365,1.5714285714285714,1.5087719298245614,1.4482758620689655,1.3898305084745763,1.3333333333333333,1.278688524590164,1.2258064516129032,1.1746031746031746,1.125,1.0769230769230769,1.0303030303030303,0.9850746268656716,0.9411764705882353,0.8985507246376812,0.8571428571428571,0.8169014084507042,0.7777777777777778,0.7397260273972602,0.7027027027027027,0.6666666666666666,0.631578947368421,0.5974025974025974,0.5641025641025641,0.5316455696202531,0.5,0.4691358024691358,0.43902439024390244,0.40963855421686746,0.38095238095238093,0.35294117647058826,0.32558139534883723,0.2988505747126437,0.2727272727272727,0.24719101123595505,0.2222222222222222,0.1978021978021978,0.17391304347826086,0.15053763440860216,0.1276595744680851,0.10526315789473684,0.08333333333333333,0.061855670103092786,0.04081632653061224,0.020202020202020204,0.0,0.019801980198019802,0.0392156862745098,0.05825242718446602,0.07692307692307693,0.09523809523809523,0.11320754716981132,0.1308411214953271,0.14814814814814814,0.1651376146788991,0.18181818181818182,0.1981981981981982,0.21428571428571427,0.23008849557522124,0.24561403508771928,0.2608695652173913,0.27586206896551724,0.2905982905982906,0.3050847457627119,0.31932773109243695,0.3333333333333333,0.34710743801652894,0.36065573770491804,0.37398373983739835,0.3870967741935484,0.4,0.4126984126984127,0.4251968503937008,0.4375,0.4496124031007752,0.46153846153846156,0.4732824427480916,0.48484848484848486,0.49624060150375937,0.5074626865671642,0.5185185185185185,0.5294117647058824,0.5401459854014599,0.5507246376811594,0.5611510791366906,0.5714285714285714,0.5815602836879432,0.5915492957746479,0.6013986013986014,0.6111111111111112,0.6206896551724138,0.6301369863013698,0.6394557823129252,0.6486486486486487,0.6577181208053692,0.6666666666666666,0.6754966887417219,0.6842105263157895,0.6928104575163399,0.7012987012987013,0.7096774193548387,0.717948717948718,0.7261146496815286,0.7341772151898734,0.7421383647798742,0.75,0.7577639751552795,0.7654320987654321,0.7730061349693251,0.7804878048780488,0.7878787878787878,0.7951807228915663,0.8023952095808383,0.8095238095238095,0.8165680473372781,0.8235294117647058,0.8304093567251462,0.8372093023255814,0.8439306358381503,0.8505747126436781,0.8571428571428571,0.8636363636363636,0.8700564971751412,0.8764044943820225,0.88268156424581,0.8888888888888888,0.8950276243093923,0.9010989010989011,0.907103825136612,0.9130434782608695,0.918918918918919,0.9247311827956989,0.93048128342246,0.9361702127659575,0.9417989417989417,0.9473684210526315,0.9528795811518325,0.9583333333333334,0.9637305699481865,0.9690721649484536,0.9743589743589743,0.9795918367346939,0.9847715736040609,0.98989898989899,0.9949748743718593,1.0,1.0049751243781095,1.00990099009901,1.0147783251231528,1.0196078431372548,1.024390243902439,1.029126213592233,1.0338164251207729,1.0384615384615385,1.0430622009569377,1.0476190476190477,1.052132701421801,1.0566037735849056,1.0610328638497653,1.0654205607476634,1.069767441860465,1.0740740740740742,1.0783410138248848,1.0825688073394495,1.08675799086758,1.0909090909090908,1.0950226244343892,1.0990990990990992,1.1031390134529149,1.1071428571428572,1.1111111111111112,1.1150442477876106,1.118942731277533,1.1228070175438596,1.1266375545851528,1.1304347826086956,1.1341991341991342,1.1379310344827587,1.1416309012875536,1.1452991452991452,1.148936170212766,1.152542372881356,1.1561181434599157,1.1596638655462186,1.1631799163179917,1.1666666666666667,1.170124481327801,1.1735537190082646,1.176954732510288,1.180327868852459,1.183673469387755,1.1869918699186992,1.1902834008097165,1.1935483870967742,1.1967871485943775,1.2],\"yaxis\":\"y\",\"type\":\"scatter\"}],                        {\"template\":{\"data\":{\"bar\":[{\"error_x\":{\"color\":\"#2a3f5f\"},\"error_y\":{\"color\":\"#2a3f5f\"},\"marker\":{\"line\":{\"color\":\"#E5ECF6\",\"width\":0.5},\"pattern\":{\"fillmode\":\"overlay\",\"size\":10,\"solidity\":0.2}},\"type\":\"bar\"}],\"barpolar\":[{\"marker\":{\"line\":{\"color\":\"#E5ECF6\",\"width\":0.5},\"pattern\":{\"fillmode\":\"overlay\",\"size\":10,\"solidity\":0.2}},\"type\":\"barpolar\"}],\"carpet\":[{\"aaxis\":{\"endlinecolor\":\"#2a3f5f\",\"gridcolor\":\"white\",\"linecolor\":\"white\",\"minorgridcolor\":\"white\",\"startlinecolor\":\"#2a3f5f\"},\"baxis\":{\"endlinecolor\":\"#2a3f5f\",\"gridcolor\":\"white\",\"linecolor\":\"white\",\"minorgridcolor\":\"white\",\"startlinecolor\":\"#2a3f5f\"},\"type\":\"carpet\"}],\"choropleth\":[{\"colorbar\":{\"outlinewidth\":0,\"ticks\":\"\"},\"type\":\"choropleth\"}],\"contour\":[{\"colorbar\":{\"outlinewidth\":0,\"ticks\":\"\"},\"colorscale\":[[0.0,\"#0d0887\"],[0.1111111111111111,\"#46039f\"],[0.2222222222222222,\"#7201a8\"],[0.3333333333333333,\"#9c179e\"],[0.4444444444444444,\"#bd3786\"],[0.5555555555555556,\"#d8576b\"],[0.6666666666666666,\"#ed7953\"],[0.7777777777777778,\"#fb9f3a\"],[0.8888888888888888,\"#fdca26\"],[1.0,\"#f0f921\"]],\"type\":\"contour\"}],\"contourcarpet\":[{\"colorbar\":{\"outlinewidth\":0,\"ticks\":\"\"},\"type\":\"contourcarpet\"}],\"heatmap\":[{\"colorbar\":{\"outlinewidth\":0,\"ticks\":\"\"},\"colorscale\":[[0.0,\"#0d0887\"],[0.1111111111111111,\"#46039f\"],[0.2222222222222222,\"#7201a8\"],[0.3333333333333333,\"#9c179e\"],[0.4444444444444444,\"#bd3786\"],[0.5555555555555556,\"#d8576b\"],[0.6666666666666666,\"#ed7953\"],[0.7777777777777778,\"#fb9f3a\"],[0.8888888888888888,\"#fdca26\"],[1.0,\"#f0f921\"]],\"type\":\"heatmap\"}],\"heatmapgl\":[{\"colorbar\":{\"outlinewidth\":0,\"ticks\":\"\"},\"colorscale\":[[0.0,\"#0d0887\"],[0.1111111111111111,\"#46039f\"],[0.2222222222222222,\"#7201a8\"],[0.3333333333333333,\"#9c179e\"],[0.4444444444444444,\"#bd3786\"],[0.5555555555555556,\"#d8576b\"],[0.6666666666666666,\"#ed7953\"],[0.7777777777777778,\"#fb9f3a\"],[0.8888888888888888,\"#fdca26\"],[1.0,\"#f0f921\"]],\"type\":\"heatmapgl\"}],\"histogram\":[{\"marker\":{\"pattern\":{\"fillmode\":\"overlay\",\"size\":10,\"solidity\":0.2}},\"type\":\"histogram\"}],\"histogram2d\":[{\"colorbar\":{\"outlinewidth\":0,\"ticks\":\"\"},\"colorscale\":[[0.0,\"#0d0887\"],[0.1111111111111111,\"#46039f\"],[0.2222222222222222,\"#7201a8\"],[0.3333333333333333,\"#9c179e\"],[0.4444444444444444,\"#bd3786\"],[0.5555555555555556,\"#d8576b\"],[0.6666666666666666,\"#ed7953\"],[0.7777777777777778,\"#fb9f3a\"],[0.8888888888888888,\"#fdca26\"],[1.0,\"#f0f921\"]],\"type\":\"histogram2d\"}],\"histogram2dcontour\":[{\"colorbar\":{\"outlinewidth\":0,\"ticks\":\"\"},\"colorscale\":[[0.0,\"#0d0887\"],[0.1111111111111111,\"#46039f\"],[0.2222222222222222,\"#7201a8\"],[0.3333333333333333,\"#9c179e\"],[0.4444444444444444,\"#bd3786\"],[0.5555555555555556,\"#d8576b\"],[0.6666666666666666,\"#ed7953\"],[0.7777777777777778,\"#fb9f3a\"],[0.8888888888888888,\"#fdca26\"],[1.0,\"#f0f921\"]],\"type\":\"histogram2dcontour\"}],\"mesh3d\":[{\"colorbar\":{\"outlinewidth\":0,\"ticks\":\"\"},\"type\":\"mesh3d\"}],\"parcoords\":[{\"line\":{\"colorbar\":{\"outlinewidth\":0,\"ticks\":\"\"}},\"type\":\"parcoords\"}],\"pie\":[{\"automargin\":true,\"type\":\"pie\"}],\"scatter\":[{\"marker\":{\"colorbar\":{\"outlinewidth\":0,\"ticks\":\"\"}},\"type\":\"scatter\"}],\"scatter3d\":[{\"line\":{\"colorbar\":{\"outlinewidth\":0,\"ticks\":\"\"}},\"marker\":{\"colorbar\":{\"outlinewidth\":0,\"ticks\":\"\"}},\"type\":\"scatter3d\"}],\"scattercarpet\":[{\"marker\":{\"colorbar\":{\"outlinewidth\":0,\"ticks\":\"\"}},\"type\":\"scattercarpet\"}],\"scattergeo\":[{\"marker\":{\"colorbar\":{\"outlinewidth\":0,\"ticks\":\"\"}},\"type\":\"scattergeo\"}],\"scattergl\":[{\"marker\":{\"colorbar\":{\"outlinewidth\":0,\"ticks\":\"\"}},\"type\":\"scattergl\"}],\"scattermapbox\":[{\"marker\":{\"colorbar\":{\"outlinewidth\":0,\"ticks\":\"\"}},\"type\":\"scattermapbox\"}],\"scatterpolar\":[{\"marker\":{\"colorbar\":{\"outlinewidth\":0,\"ticks\":\"\"}},\"type\":\"scatterpolar\"}],\"scatterpolargl\":[{\"marker\":{\"colorbar\":{\"outlinewidth\":0,\"ticks\":\"\"}},\"type\":\"scatterpolargl\"}],\"scatterternary\":[{\"marker\":{\"colorbar\":{\"outlinewidth\":0,\"ticks\":\"\"}},\"type\":\"scatterternary\"}],\"surface\":[{\"colorbar\":{\"outlinewidth\":0,\"ticks\":\"\"},\"colorscale\":[[0.0,\"#0d0887\"],[0.1111111111111111,\"#46039f\"],[0.2222222222222222,\"#7201a8\"],[0.3333333333333333,\"#9c179e\"],[0.4444444444444444,\"#bd3786\"],[0.5555555555555556,\"#d8576b\"],[0.6666666666666666,\"#ed7953\"],[0.7777777777777778,\"#fb9f3a\"],[0.8888888888888888,\"#fdca26\"],[1.0,\"#f0f921\"]],\"type\":\"surface\"}],\"table\":[{\"cells\":{\"fill\":{\"color\":\"#EBF0F8\"},\"line\":{\"color\":\"white\"}},\"header\":{\"fill\":{\"color\":\"#C8D4E3\"},\"line\":{\"color\":\"white\"}},\"type\":\"table\"}]},\"layout\":{\"annotationdefaults\":{\"arrowcolor\":\"#2a3f5f\",\"arrowhead\":0,\"arrowwidth\":1},\"autotypenumbers\":\"strict\",\"coloraxis\":{\"colorbar\":{\"outlinewidth\":0,\"ticks\":\"\"}},\"colorscale\":{\"diverging\":[[0,\"#8e0152\"],[0.1,\"#c51b7d\"],[0.2,\"#de77ae\"],[0.3,\"#f1b6da\"],[0.4,\"#fde0ef\"],[0.5,\"#f7f7f7\"],[0.6,\"#e6f5d0\"],[0.7,\"#b8e186\"],[0.8,\"#7fbc41\"],[0.9,\"#4d9221\"],[1,\"#276419\"]],\"sequential\":[[0.0,\"#0d0887\"],[0.1111111111111111,\"#46039f\"],[0.2222222222222222,\"#7201a8\"],[0.3333333333333333,\"#9c179e\"],[0.4444444444444444,\"#bd3786\"],[0.5555555555555556,\"#d8576b\"],[0.6666666666666666,\"#ed7953\"],[0.7777777777777778,\"#fb9f3a\"],[0.8888888888888888,\"#fdca26\"],[1.0,\"#f0f921\"]],\"sequentialminus\":[[0.0,\"#0d0887\"],[0.1111111111111111,\"#46039f\"],[0.2222222222222222,\"#7201a8\"],[0.3333333333333333,\"#9c179e\"],[0.4444444444444444,\"#bd3786\"],[0.5555555555555556,\"#d8576b\"],[0.6666666666666666,\"#ed7953\"],[0.7777777777777778,\"#fb9f3a\"],[0.8888888888888888,\"#fdca26\"],[1.0,\"#f0f921\"]]},\"colorway\":[\"#636efa\",\"#EF553B\",\"#00cc96\",\"#ab63fa\",\"#FFA15A\",\"#19d3f3\",\"#FF6692\",\"#B6E880\",\"#FF97FF\",\"#FECB52\"],\"font\":{\"color\":\"#2a3f5f\"},\"geo\":{\"bgcolor\":\"white\",\"lakecolor\":\"white\",\"landcolor\":\"#E5ECF6\",\"showlakes\":true,\"showland\":true,\"subunitcolor\":\"white\"},\"hoverlabel\":{\"align\":\"left\"},\"hovermode\":\"closest\",\"mapbox\":{\"style\":\"light\"},\"paper_bgcolor\":\"white\",\"plot_bgcolor\":\"#E5ECF6\",\"polar\":{\"angularaxis\":{\"gridcolor\":\"white\",\"linecolor\":\"white\",\"ticks\":\"\"},\"bgcolor\":\"#E5ECF6\",\"radialaxis\":{\"gridcolor\":\"white\",\"linecolor\":\"white\",\"ticks\":\"\"}},\"scene\":{\"xaxis\":{\"backgroundcolor\":\"#E5ECF6\",\"gridcolor\":\"white\",\"gridwidth\":2,\"linecolor\":\"white\",\"showbackground\":true,\"ticks\":\"\",\"zerolinecolor\":\"white\"},\"yaxis\":{\"backgroundcolor\":\"#E5ECF6\",\"gridcolor\":\"white\",\"gridwidth\":2,\"linecolor\":\"white\",\"showbackground\":true,\"ticks\":\"\",\"zerolinecolor\":\"white\"},\"zaxis\":{\"backgroundcolor\":\"#E5ECF6\",\"gridcolor\":\"white\",\"gridwidth\":2,\"linecolor\":\"white\",\"showbackground\":true,\"ticks\":\"\",\"zerolinecolor\":\"white\"}},\"shapedefaults\":{\"line\":{\"color\":\"#2a3f5f\"}},\"ternary\":{\"aaxis\":{\"gridcolor\":\"white\",\"linecolor\":\"white\",\"ticks\":\"\"},\"baxis\":{\"gridcolor\":\"white\",\"linecolor\":\"white\",\"ticks\":\"\"},\"bgcolor\":\"#E5ECF6\",\"caxis\":{\"gridcolor\":\"white\",\"linecolor\":\"white\",\"ticks\":\"\"}},\"title\":{\"x\":0.05},\"xaxis\":{\"automargin\":true,\"gridcolor\":\"white\",\"linecolor\":\"white\",\"ticks\":\"\",\"title\":{\"standoff\":15},\"zerolinecolor\":\"white\",\"zerolinewidth\":2},\"yaxis\":{\"automargin\":true,\"gridcolor\":\"white\",\"linecolor\":\"white\",\"ticks\":\"\",\"title\":{\"standoff\":15},\"zerolinecolor\":\"white\",\"zerolinewidth\":2}}},\"xaxis\":{\"anchor\":\"y\",\"domain\":[0.0,1.0],\"title\":{\"text\":\"Actual\"},\"range\":[0,200]},\"yaxis\":{\"anchor\":\"x\",\"domain\":[0.0,1.0],\"title\":{\"text\":\"SMAPE\"},\"range\":[0,2],\"tickformat\":\",.0%\"},\"legend\":{\"title\":{\"text\":\"variable\"},\"tracegroupgap\":0},\"title\":{\"text\":\"Illustration of SMAPE Asymmetry\"}},                        {\"responsive\": true}                    ).then(function(){\n",
              "                            \n",
              "var gd = document.getElementById('3bc3037e-ddbd-48a9-bb7d-66b434986b74');\n",
              "var x = new MutationObserver(function (mutations, observer) {{\n",
              "        var display = window.getComputedStyle(gd).display;\n",
              "        if (!display || display === 'none') {{\n",
              "            console.log([gd, 'removed!']);\n",
              "            Plotly.purge(gd);\n",
              "            observer.disconnect();\n",
              "        }}\n",
              "}});\n",
              "\n",
              "// Listen for the removal of the full notebook cells\n",
              "var notebookContainer = gd.closest('#notebook-container');\n",
              "if (notebookContainer) {{\n",
              "    x.observe(notebookContainer, {childList: true});\n",
              "}}\n",
              "\n",
              "// Listen for the clearing of the current output cell\n",
              "var outputEl = gd.closest('.output');\n",
              "if (outputEl) {{\n",
              "    x.observe(outputEl, {childList: true});\n",
              "}}\n",
              "\n",
              "                        })                };                            </script>        </div>\n",
              "</body>\n",
              "</html>"
            ]
          },
          "metadata": {}
        }
      ]
    },
    {
      "cell_type": "markdown",
      "source": [
        "---\n",
        "# MAE - Mean Absolute Error\n",
        "\n",
        "$$\\text{MAE} = \\frac{\\Sigma^{n}_{t=1} \\left|F_{t} - A_{t}\\right|}{n} = \\frac{\\Sigma^{n}_{t=1} \\left|e_{t}\\right|}{n}$$\n",
        "\n",
        "$\\text{MAE}$ is symmetric"
      ],
      "metadata": {
        "id": "7JVKPDzesw5I"
      }
    },
    {
      "cell_type": "code",
      "source": [
        "# create a line graph of our values\n",
        "mae_fig = px.line(df, \n",
        "              x=[df['actual'],df['predicted']], \n",
        "              y=df['mae'],\n",
        "              title='Illustration of MAE Asymmetry',\n",
        "              labels={'mae':'MAE', 'value':'Actual'},\n",
        "              range_x=[0,200]\n",
        "              )\n",
        "mae_fig.show()"
      ],
      "metadata": {
        "colab": {
          "base_uri": "https://localhost:8080/",
          "height": 542
        },
        "outputId": "39c260ca-d847-4173-fce2-edc07437f4a4",
        "id": "7DqV3OIHoe_l"
      },
      "execution_count": 20,
      "outputs": [
        {
          "output_type": "display_data",
          "data": {
            "text/html": [
              "<html>\n",
              "<head><meta charset=\"utf-8\" /></head>\n",
              "<body>\n",
              "    <div>            <script src=\"https://cdnjs.cloudflare.com/ajax/libs/mathjax/2.7.5/MathJax.js?config=TeX-AMS-MML_SVG\"></script><script type=\"text/javascript\">if (window.MathJax) {MathJax.Hub.Config({SVG: {font: \"STIX-Web\"}});}</script>                <script type=\"text/javascript\">window.PlotlyConfig = {MathJaxConfig: 'local'};</script>\n",
              "        <script src=\"https://cdn.plot.ly/plotly-2.8.3.min.js\"></script>                <div id=\"de5debf0-47ea-4775-a02d-17c099541764\" class=\"plotly-graph-div\" style=\"height:525px; width:100%;\"></div>            <script type=\"text/javascript\">                                    window.PLOTLYENV=window.PLOTLYENV || {};                                    if (document.getElementById(\"de5debf0-47ea-4775-a02d-17c099541764\")) {                    Plotly.newPlot(                        \"de5debf0-47ea-4775-a02d-17c099541764\",                        [{\"hovertemplate\":\"variable=actual<br>Actual=%{x}<br>MAE=%{y}<extra></extra>\",\"legendgroup\":\"actual\",\"line\":{\"color\":\"#636efa\",\"dash\":\"solid\"},\"marker\":{\"symbol\":\"circle\"},\"mode\":\"lines\",\"name\":\"actual\",\"orientation\":\"v\",\"showlegend\":true,\"x\":[0,1,2,3,4,5,6,7,8,9,10,11,12,13,14,15,16,17,18,19,20,21,22,23,24,25,26,27,28,29,30,31,32,33,34,35,36,37,38,39,40,41,42,43,44,45,46,47,48,49,50,51,52,53,54,55,56,57,58,59,60,61,62,63,64,65,66,67,68,69,70,71,72,73,74,75,76,77,78,79,80,81,82,83,84,85,86,87,88,89,90,91,92,93,94,95,96,97,98,99,100,101,102,103,104,105,106,107,108,109,110,111,112,113,114,115,116,117,118,119,120,121,122,123,124,125,126,127,128,129,130,131,132,133,134,135,136,137,138,139,140,141,142,143,144,145,146,147,148,149,150,151,152,153,154,155,156,157,158,159,160,161,162,163,164,165,166,167,168,169,170,171,172,173,174,175,176,177,178,179,180,181,182,183,184,185,186,187,188,189,190,191,192,193,194,195,196,197,198,199,200],\"xaxis\":\"x\",\"y\":[50.0,49.0,48.0,47.0,46.0,45.0,44.0,43.0,42.0,41.0,40.0,39.0,38.0,37.0,36.0,35.0,34.0,33.0,32.0,31.0,30.0,29.0,28.0,27.0,26.0,25.0,24.0,23.0,22.0,21.0,20.0,19.0,18.0,17.0,16.0,15.0,14.0,13.0,12.0,11.0,10.0,9.0,8.0,7.0,6.0,5.0,4.0,3.0,2.0,1.0,0.0,1.0,2.0,3.0,4.0,5.0,6.0,7.0,8.0,9.0,10.0,11.0,12.0,13.0,14.0,15.0,16.0,17.0,18.0,19.0,20.0,21.0,22.0,23.0,24.0,25.0,26.0,27.0,28.0,29.0,30.0,31.0,32.0,33.0,34.0,35.0,36.0,37.0,38.0,39.0,40.0,41.0,42.0,43.0,44.0,45.0,46.0,47.0,48.0,49.0,50.0,51.0,52.0,53.0,54.0,55.0,56.0,57.0,58.0,59.0,60.0,61.0,62.0,63.0,64.0,65.0,66.0,67.0,68.0,69.0,70.0,71.0,72.0,73.0,74.0,75.0,76.0,77.0,78.0,79.0,80.0,81.0,82.0,83.0,84.0,85.0,86.0,87.0,88.0,89.0,90.0,91.0,92.0,93.0,94.0,95.0,96.0,97.0,98.0,99.0,100.0,101.0,102.0,103.0,104.0,105.0,106.0,107.0,108.0,109.0,110.0,111.0,112.0,113.0,114.0,115.0,116.0,117.0,118.0,119.0,120.0,121.0,122.0,123.0,124.0,125.0,126.0,127.0,128.0,129.0,130.0,131.0,132.0,133.0,134.0,135.0,136.0,137.0,138.0,139.0,140.0,141.0,142.0,143.0,144.0,145.0,146.0,147.0,148.0,149.0,150.0],\"yaxis\":\"y\",\"type\":\"scatter\"},{\"hovertemplate\":\"variable=predicted<br>Actual=%{x}<br>MAE=%{y}<extra></extra>\",\"legendgroup\":\"predicted\",\"line\":{\"color\":\"#EF553B\",\"dash\":\"solid\"},\"marker\":{\"symbol\":\"circle\"},\"mode\":\"lines\",\"name\":\"predicted\",\"orientation\":\"v\",\"showlegend\":true,\"x\":[50,50,50,50,50,50,50,50,50,50,50,50,50,50,50,50,50,50,50,50,50,50,50,50,50,50,50,50,50,50,50,50,50,50,50,50,50,50,50,50,50,50,50,50,50,50,50,50,50,50,50,50,50,50,50,50,50,50,50,50,50,50,50,50,50,50,50,50,50,50,50,50,50,50,50,50,50,50,50,50,50,50,50,50,50,50,50,50,50,50,50,50,50,50,50,50,50,50,50,50,50,50,50,50,50,50,50,50,50,50,50,50,50,50,50,50,50,50,50,50,50,50,50,50,50,50,50,50,50,50,50,50,50,50,50,50,50,50,50,50,50,50,50,50,50,50,50,50,50,50,50,50,50,50,50,50,50,50,50,50,50,50,50,50,50,50,50,50,50,50,50,50,50,50,50,50,50,50,50,50,50,50,50,50,50,50,50,50,50,50,50,50,50,50,50,50,50,50,50,50,50],\"xaxis\":\"x\",\"y\":[50.0,49.0,48.0,47.0,46.0,45.0,44.0,43.0,42.0,41.0,40.0,39.0,38.0,37.0,36.0,35.0,34.0,33.0,32.0,31.0,30.0,29.0,28.0,27.0,26.0,25.0,24.0,23.0,22.0,21.0,20.0,19.0,18.0,17.0,16.0,15.0,14.0,13.0,12.0,11.0,10.0,9.0,8.0,7.0,6.0,5.0,4.0,3.0,2.0,1.0,0.0,1.0,2.0,3.0,4.0,5.0,6.0,7.0,8.0,9.0,10.0,11.0,12.0,13.0,14.0,15.0,16.0,17.0,18.0,19.0,20.0,21.0,22.0,23.0,24.0,25.0,26.0,27.0,28.0,29.0,30.0,31.0,32.0,33.0,34.0,35.0,36.0,37.0,38.0,39.0,40.0,41.0,42.0,43.0,44.0,45.0,46.0,47.0,48.0,49.0,50.0,51.0,52.0,53.0,54.0,55.0,56.0,57.0,58.0,59.0,60.0,61.0,62.0,63.0,64.0,65.0,66.0,67.0,68.0,69.0,70.0,71.0,72.0,73.0,74.0,75.0,76.0,77.0,78.0,79.0,80.0,81.0,82.0,83.0,84.0,85.0,86.0,87.0,88.0,89.0,90.0,91.0,92.0,93.0,94.0,95.0,96.0,97.0,98.0,99.0,100.0,101.0,102.0,103.0,104.0,105.0,106.0,107.0,108.0,109.0,110.0,111.0,112.0,113.0,114.0,115.0,116.0,117.0,118.0,119.0,120.0,121.0,122.0,123.0,124.0,125.0,126.0,127.0,128.0,129.0,130.0,131.0,132.0,133.0,134.0,135.0,136.0,137.0,138.0,139.0,140.0,141.0,142.0,143.0,144.0,145.0,146.0,147.0,148.0,149.0,150.0],\"yaxis\":\"y\",\"type\":\"scatter\"}],                        {\"template\":{\"data\":{\"bar\":[{\"error_x\":{\"color\":\"#2a3f5f\"},\"error_y\":{\"color\":\"#2a3f5f\"},\"marker\":{\"line\":{\"color\":\"#E5ECF6\",\"width\":0.5},\"pattern\":{\"fillmode\":\"overlay\",\"size\":10,\"solidity\":0.2}},\"type\":\"bar\"}],\"barpolar\":[{\"marker\":{\"line\":{\"color\":\"#E5ECF6\",\"width\":0.5},\"pattern\":{\"fillmode\":\"overlay\",\"size\":10,\"solidity\":0.2}},\"type\":\"barpolar\"}],\"carpet\":[{\"aaxis\":{\"endlinecolor\":\"#2a3f5f\",\"gridcolor\":\"white\",\"linecolor\":\"white\",\"minorgridcolor\":\"white\",\"startlinecolor\":\"#2a3f5f\"},\"baxis\":{\"endlinecolor\":\"#2a3f5f\",\"gridcolor\":\"white\",\"linecolor\":\"white\",\"minorgridcolor\":\"white\",\"startlinecolor\":\"#2a3f5f\"},\"type\":\"carpet\"}],\"choropleth\":[{\"colorbar\":{\"outlinewidth\":0,\"ticks\":\"\"},\"type\":\"choropleth\"}],\"contour\":[{\"colorbar\":{\"outlinewidth\":0,\"ticks\":\"\"},\"colorscale\":[[0.0,\"#0d0887\"],[0.1111111111111111,\"#46039f\"],[0.2222222222222222,\"#7201a8\"],[0.3333333333333333,\"#9c179e\"],[0.4444444444444444,\"#bd3786\"],[0.5555555555555556,\"#d8576b\"],[0.6666666666666666,\"#ed7953\"],[0.7777777777777778,\"#fb9f3a\"],[0.8888888888888888,\"#fdca26\"],[1.0,\"#f0f921\"]],\"type\":\"contour\"}],\"contourcarpet\":[{\"colorbar\":{\"outlinewidth\":0,\"ticks\":\"\"},\"type\":\"contourcarpet\"}],\"heatmap\":[{\"colorbar\":{\"outlinewidth\":0,\"ticks\":\"\"},\"colorscale\":[[0.0,\"#0d0887\"],[0.1111111111111111,\"#46039f\"],[0.2222222222222222,\"#7201a8\"],[0.3333333333333333,\"#9c179e\"],[0.4444444444444444,\"#bd3786\"],[0.5555555555555556,\"#d8576b\"],[0.6666666666666666,\"#ed7953\"],[0.7777777777777778,\"#fb9f3a\"],[0.8888888888888888,\"#fdca26\"],[1.0,\"#f0f921\"]],\"type\":\"heatmap\"}],\"heatmapgl\":[{\"colorbar\":{\"outlinewidth\":0,\"ticks\":\"\"},\"colorscale\":[[0.0,\"#0d0887\"],[0.1111111111111111,\"#46039f\"],[0.2222222222222222,\"#7201a8\"],[0.3333333333333333,\"#9c179e\"],[0.4444444444444444,\"#bd3786\"],[0.5555555555555556,\"#d8576b\"],[0.6666666666666666,\"#ed7953\"],[0.7777777777777778,\"#fb9f3a\"],[0.8888888888888888,\"#fdca26\"],[1.0,\"#f0f921\"]],\"type\":\"heatmapgl\"}],\"histogram\":[{\"marker\":{\"pattern\":{\"fillmode\":\"overlay\",\"size\":10,\"solidity\":0.2}},\"type\":\"histogram\"}],\"histogram2d\":[{\"colorbar\":{\"outlinewidth\":0,\"ticks\":\"\"},\"colorscale\":[[0.0,\"#0d0887\"],[0.1111111111111111,\"#46039f\"],[0.2222222222222222,\"#7201a8\"],[0.3333333333333333,\"#9c179e\"],[0.4444444444444444,\"#bd3786\"],[0.5555555555555556,\"#d8576b\"],[0.6666666666666666,\"#ed7953\"],[0.7777777777777778,\"#fb9f3a\"],[0.8888888888888888,\"#fdca26\"],[1.0,\"#f0f921\"]],\"type\":\"histogram2d\"}],\"histogram2dcontour\":[{\"colorbar\":{\"outlinewidth\":0,\"ticks\":\"\"},\"colorscale\":[[0.0,\"#0d0887\"],[0.1111111111111111,\"#46039f\"],[0.2222222222222222,\"#7201a8\"],[0.3333333333333333,\"#9c179e\"],[0.4444444444444444,\"#bd3786\"],[0.5555555555555556,\"#d8576b\"],[0.6666666666666666,\"#ed7953\"],[0.7777777777777778,\"#fb9f3a\"],[0.8888888888888888,\"#fdca26\"],[1.0,\"#f0f921\"]],\"type\":\"histogram2dcontour\"}],\"mesh3d\":[{\"colorbar\":{\"outlinewidth\":0,\"ticks\":\"\"},\"type\":\"mesh3d\"}],\"parcoords\":[{\"line\":{\"colorbar\":{\"outlinewidth\":0,\"ticks\":\"\"}},\"type\":\"parcoords\"}],\"pie\":[{\"automargin\":true,\"type\":\"pie\"}],\"scatter\":[{\"marker\":{\"colorbar\":{\"outlinewidth\":0,\"ticks\":\"\"}},\"type\":\"scatter\"}],\"scatter3d\":[{\"line\":{\"colorbar\":{\"outlinewidth\":0,\"ticks\":\"\"}},\"marker\":{\"colorbar\":{\"outlinewidth\":0,\"ticks\":\"\"}},\"type\":\"scatter3d\"}],\"scattercarpet\":[{\"marker\":{\"colorbar\":{\"outlinewidth\":0,\"ticks\":\"\"}},\"type\":\"scattercarpet\"}],\"scattergeo\":[{\"marker\":{\"colorbar\":{\"outlinewidth\":0,\"ticks\":\"\"}},\"type\":\"scattergeo\"}],\"scattergl\":[{\"marker\":{\"colorbar\":{\"outlinewidth\":0,\"ticks\":\"\"}},\"type\":\"scattergl\"}],\"scattermapbox\":[{\"marker\":{\"colorbar\":{\"outlinewidth\":0,\"ticks\":\"\"}},\"type\":\"scattermapbox\"}],\"scatterpolar\":[{\"marker\":{\"colorbar\":{\"outlinewidth\":0,\"ticks\":\"\"}},\"type\":\"scatterpolar\"}],\"scatterpolargl\":[{\"marker\":{\"colorbar\":{\"outlinewidth\":0,\"ticks\":\"\"}},\"type\":\"scatterpolargl\"}],\"scatterternary\":[{\"marker\":{\"colorbar\":{\"outlinewidth\":0,\"ticks\":\"\"}},\"type\":\"scatterternary\"}],\"surface\":[{\"colorbar\":{\"outlinewidth\":0,\"ticks\":\"\"},\"colorscale\":[[0.0,\"#0d0887\"],[0.1111111111111111,\"#46039f\"],[0.2222222222222222,\"#7201a8\"],[0.3333333333333333,\"#9c179e\"],[0.4444444444444444,\"#bd3786\"],[0.5555555555555556,\"#d8576b\"],[0.6666666666666666,\"#ed7953\"],[0.7777777777777778,\"#fb9f3a\"],[0.8888888888888888,\"#fdca26\"],[1.0,\"#f0f921\"]],\"type\":\"surface\"}],\"table\":[{\"cells\":{\"fill\":{\"color\":\"#EBF0F8\"},\"line\":{\"color\":\"white\"}},\"header\":{\"fill\":{\"color\":\"#C8D4E3\"},\"line\":{\"color\":\"white\"}},\"type\":\"table\"}]},\"layout\":{\"annotationdefaults\":{\"arrowcolor\":\"#2a3f5f\",\"arrowhead\":0,\"arrowwidth\":1},\"autotypenumbers\":\"strict\",\"coloraxis\":{\"colorbar\":{\"outlinewidth\":0,\"ticks\":\"\"}},\"colorscale\":{\"diverging\":[[0,\"#8e0152\"],[0.1,\"#c51b7d\"],[0.2,\"#de77ae\"],[0.3,\"#f1b6da\"],[0.4,\"#fde0ef\"],[0.5,\"#f7f7f7\"],[0.6,\"#e6f5d0\"],[0.7,\"#b8e186\"],[0.8,\"#7fbc41\"],[0.9,\"#4d9221\"],[1,\"#276419\"]],\"sequential\":[[0.0,\"#0d0887\"],[0.1111111111111111,\"#46039f\"],[0.2222222222222222,\"#7201a8\"],[0.3333333333333333,\"#9c179e\"],[0.4444444444444444,\"#bd3786\"],[0.5555555555555556,\"#d8576b\"],[0.6666666666666666,\"#ed7953\"],[0.7777777777777778,\"#fb9f3a\"],[0.8888888888888888,\"#fdca26\"],[1.0,\"#f0f921\"]],\"sequentialminus\":[[0.0,\"#0d0887\"],[0.1111111111111111,\"#46039f\"],[0.2222222222222222,\"#7201a8\"],[0.3333333333333333,\"#9c179e\"],[0.4444444444444444,\"#bd3786\"],[0.5555555555555556,\"#d8576b\"],[0.6666666666666666,\"#ed7953\"],[0.7777777777777778,\"#fb9f3a\"],[0.8888888888888888,\"#fdca26\"],[1.0,\"#f0f921\"]]},\"colorway\":[\"#636efa\",\"#EF553B\",\"#00cc96\",\"#ab63fa\",\"#FFA15A\",\"#19d3f3\",\"#FF6692\",\"#B6E880\",\"#FF97FF\",\"#FECB52\"],\"font\":{\"color\":\"#2a3f5f\"},\"geo\":{\"bgcolor\":\"white\",\"lakecolor\":\"white\",\"landcolor\":\"#E5ECF6\",\"showlakes\":true,\"showland\":true,\"subunitcolor\":\"white\"},\"hoverlabel\":{\"align\":\"left\"},\"hovermode\":\"closest\",\"mapbox\":{\"style\":\"light\"},\"paper_bgcolor\":\"white\",\"plot_bgcolor\":\"#E5ECF6\",\"polar\":{\"angularaxis\":{\"gridcolor\":\"white\",\"linecolor\":\"white\",\"ticks\":\"\"},\"bgcolor\":\"#E5ECF6\",\"radialaxis\":{\"gridcolor\":\"white\",\"linecolor\":\"white\",\"ticks\":\"\"}},\"scene\":{\"xaxis\":{\"backgroundcolor\":\"#E5ECF6\",\"gridcolor\":\"white\",\"gridwidth\":2,\"linecolor\":\"white\",\"showbackground\":true,\"ticks\":\"\",\"zerolinecolor\":\"white\"},\"yaxis\":{\"backgroundcolor\":\"#E5ECF6\",\"gridcolor\":\"white\",\"gridwidth\":2,\"linecolor\":\"white\",\"showbackground\":true,\"ticks\":\"\",\"zerolinecolor\":\"white\"},\"zaxis\":{\"backgroundcolor\":\"#E5ECF6\",\"gridcolor\":\"white\",\"gridwidth\":2,\"linecolor\":\"white\",\"showbackground\":true,\"ticks\":\"\",\"zerolinecolor\":\"white\"}},\"shapedefaults\":{\"line\":{\"color\":\"#2a3f5f\"}},\"ternary\":{\"aaxis\":{\"gridcolor\":\"white\",\"linecolor\":\"white\",\"ticks\":\"\"},\"baxis\":{\"gridcolor\":\"white\",\"linecolor\":\"white\",\"ticks\":\"\"},\"bgcolor\":\"#E5ECF6\",\"caxis\":{\"gridcolor\":\"white\",\"linecolor\":\"white\",\"ticks\":\"\"}},\"title\":{\"x\":0.05},\"xaxis\":{\"automargin\":true,\"gridcolor\":\"white\",\"linecolor\":\"white\",\"ticks\":\"\",\"title\":{\"standoff\":15},\"zerolinecolor\":\"white\",\"zerolinewidth\":2},\"yaxis\":{\"automargin\":true,\"gridcolor\":\"white\",\"linecolor\":\"white\",\"ticks\":\"\",\"title\":{\"standoff\":15},\"zerolinecolor\":\"white\",\"zerolinewidth\":2}}},\"xaxis\":{\"anchor\":\"y\",\"domain\":[0.0,1.0],\"title\":{\"text\":\"Actual\"},\"range\":[0,200]},\"yaxis\":{\"anchor\":\"x\",\"domain\":[0.0,1.0],\"title\":{\"text\":\"MAE\"}},\"legend\":{\"title\":{\"text\":\"variable\"},\"tracegroupgap\":0},\"title\":{\"text\":\"Illustration of MAE Asymmetry\"}},                        {\"responsive\": true}                    ).then(function(){\n",
              "                            \n",
              "var gd = document.getElementById('de5debf0-47ea-4775-a02d-17c099541764');\n",
              "var x = new MutationObserver(function (mutations, observer) {{\n",
              "        var display = window.getComputedStyle(gd).display;\n",
              "        if (!display || display === 'none') {{\n",
              "            console.log([gd, 'removed!']);\n",
              "            Plotly.purge(gd);\n",
              "            observer.disconnect();\n",
              "        }}\n",
              "}});\n",
              "\n",
              "// Listen for the removal of the full notebook cells\n",
              "var notebookContainer = gd.closest('#notebook-container');\n",
              "if (notebookContainer) {{\n",
              "    x.observe(notebookContainer, {childList: true});\n",
              "}}\n",
              "\n",
              "// Listen for the clearing of the current output cell\n",
              "var outputEl = gd.closest('.output');\n",
              "if (outputEl) {{\n",
              "    x.observe(outputEl, {childList: true});\n",
              "}}\n",
              "\n",
              "                        })                };                            </script>        </div>\n",
              "</body>\n",
              "</html>"
            ]
          },
          "metadata": {}
        }
      ]
    },
    {
      "cell_type": "code",
      "source": [],
      "metadata": {
        "id": "bVw0lRnEZrGb"
      },
      "execution_count": 20,
      "outputs": []
    }
  ]
}